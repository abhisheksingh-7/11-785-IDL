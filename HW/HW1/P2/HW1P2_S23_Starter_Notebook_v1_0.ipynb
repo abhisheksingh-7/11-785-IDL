{
  "cells": [
    {
      "cell_type": "markdown",
      "metadata": {
        "id": "F9ERgBpbcMmB"
      },
      "source": [
        "# HW1: Frame-Level Speech Recognition"
      ]
    },
    {
      "cell_type": "markdown",
      "metadata": {
        "id": "CLkH6GMGcWcE"
      },
      "source": [
        "In this homework, you will be working with MFCC data consisting of 27 features at each time step/frame. Your model should be able to recognize the phoneme occured in that frame."
      ]
    },
    {
      "cell_type": "markdown",
      "metadata": {
        "id": "z4vZbDmJvMp1"
      },
      "source": [
        "# Libraries"
      ]
    },
    {
      "cell_type": "code",
      "source": [
        "!nvidia-smi"
      ],
      "metadata": {
        "colab": {
          "base_uri": "https://localhost:8080/"
        },
        "id": "oHMjaiPb3FwK",
        "outputId": "4f600023-55f8-4629-fe2f-2ac57eff3bdf"
      },
      "execution_count": 1,
      "outputs": [
        {
          "output_type": "stream",
          "name": "stdout",
          "text": [
            "Thu Feb 16 04:32:28 2023       \n",
            "+-----------------------------------------------------------------------------+\n",
            "| NVIDIA-SMI 510.47.03    Driver Version: 510.47.03    CUDA Version: 11.6     |\n",
            "|-------------------------------+----------------------+----------------------+\n",
            "| GPU  Name        Persistence-M| Bus-Id        Disp.A | Volatile Uncorr. ECC |\n",
            "| Fan  Temp  Perf  Pwr:Usage/Cap|         Memory-Usage | GPU-Util  Compute M. |\n",
            "|                               |                      |               MIG M. |\n",
            "|===============================+======================+======================|\n",
            "|   0  Tesla T4            Off  | 00000000:00:04.0 Off |                    0 |\n",
            "| N/A   66C    P0    27W /  70W |      0MiB / 15360MiB |      0%      Default |\n",
            "|                               |                      |                  N/A |\n",
            "+-------------------------------+----------------------+----------------------+\n",
            "                                                                               \n",
            "+-----------------------------------------------------------------------------+\n",
            "| Processes:                                                                  |\n",
            "|  GPU   GI   CI        PID   Type   Process name                  GPU Memory |\n",
            "|        ID   ID                                                   Usage      |\n",
            "|=============================================================================|\n",
            "|  No running processes found                                                 |\n",
            "+-----------------------------------------------------------------------------+\n"
          ]
        }
      ]
    },
    {
      "cell_type": "code",
      "execution_count": 2,
      "metadata": {
        "id": "rwYu9sSUnSho"
      },
      "outputs": [],
      "source": [
        "!pip install torchsummaryX wandb --quiet"
      ]
    },
    {
      "cell_type": "code",
      "execution_count": 3,
      "metadata": {
        "colab": {
          "base_uri": "https://localhost:8080/"
        },
        "id": "qI4qfx7tiBZt",
        "outputId": "95b1dd09-d42f-4adc-9117-44d5fd819147"
      },
      "outputs": [
        {
          "output_type": "stream",
          "name": "stdout",
          "text": [
            "Device:  cuda\n"
          ]
        }
      ],
      "source": [
        "import torch\n",
        "import numpy as np\n",
        "from torchsummaryX import summary\n",
        "import sklearn\n",
        "import gc\n",
        "import zipfile\n",
        "import pandas as pd\n",
        "from tqdm.auto import tqdm\n",
        "import os\n",
        "import datetime\n",
        "import wandb\n",
        "import math\n",
        "device = 'cuda' if torch.cuda.is_available() else 'cpu'\n",
        "print(\"Device: \", device)"
      ]
    },
    {
      "cell_type": "code",
      "execution_count": 4,
      "metadata": {
        "id": "8yBgXjKV1O0Z",
        "outputId": "36d90d94-1ae7-4a7c-d0eb-efb28489fcc9",
        "colab": {
          "base_uri": "https://localhost:8080/"
        }
      },
      "outputs": [
        {
          "output_type": "stream",
          "name": "stdout",
          "text": [
            "Drive already mounted at /content/drive; to attempt to forcibly remount, call drive.mount(\"/content/drive\", force_remount=True).\n"
          ]
        }
      ],
      "source": [
        "### If you are using colab, you can import google drive to save model checkpoints in a folder\n",
        "from google.colab import drive\n",
        "drive.mount('/content/drive')"
      ]
    },
    {
      "cell_type": "code",
      "source": [
        "# # make directory for homework\n",
        "# import os\n",
        "# import errno\n",
        "# directory_name = '/content/drive/MyDrive/11-785-IDL/HW/HW1/P2'\n",
        "# try:\n",
        "#     os.makedirs(directory_name)\n",
        "# except OSError as exc: \n",
        "#     if exc.errno == errno.EEXIST and os.path.isdir(directory_name):\n",
        "#         pass"
      ],
      "metadata": {
        "id": "v73PgSqgDPxD"
      },
      "execution_count": 5,
      "outputs": []
    },
    {
      "cell_type": "code",
      "source": [
        "# ! ls /content/drive/MyDrive/11-785-IDL/HW/HW1/P2"
      ],
      "metadata": {
        "id": "totGBwNyEkx5"
      },
      "execution_count": 6,
      "outputs": []
    },
    {
      "cell_type": "code",
      "execution_count": 7,
      "metadata": {
        "id": "N-9qE20hmCgQ"
      },
      "outputs": [],
      "source": [
        "### PHONEME LIST\n",
        "PHONEMES = [\n",
        "            '[SIL]',   'AA',    'AE',    'AH',    'AO',    'AW',    'AY',  \n",
        "            'B',     'CH',    'D',     'DH',    'EH',    'ER',    'EY',\n",
        "            'F',     'G',     'HH',    'IH',    'IY',    'JH',    'K',\n",
        "            'L',     'M',     'N',     'NG',    'OW',    'OY',    'P',\n",
        "            'R',     'S',     'SH',    'T',     'TH',    'UH',    'UW',\n",
        "            'V',     'W',     'Y',     'Z',     'ZH',    '[SOS]', '[EOS]']"
      ]
    },
    {
      "cell_type": "markdown",
      "metadata": {
        "id": "ZIi0Big7vPa9"
      },
      "source": [
        "# Kaggle"
      ]
    },
    {
      "cell_type": "markdown",
      "metadata": {
        "id": "BBCbeRhixGM7"
      },
      "source": [
        "This section contains code that helps you install kaggle's API, creating kaggle.json with you username and API key details. Make sure to input those in the given code to ensure you can download data from the competition successfully."
      ]
    },
    {
      "cell_type": "code",
      "execution_count": 8,
      "metadata": {
        "id": "TPBUd7Cnl-Rx",
        "outputId": "32b79b96-549e-4fb1-d1aa-b2a262c8b7d2",
        "colab": {
          "base_uri": "https://localhost:8080/"
        }
      },
      "outputs": [
        {
          "output_type": "stream",
          "name": "stdout",
          "text": [
            "Looking in indexes: https://pypi.org/simple, https://us-python.pkg.dev/colab-wheels/public/simple/\n",
            "Collecting kaggle==1.5.8\n",
            "  Using cached kaggle-1.5.8-py3-none-any.whl\n",
            "Installing collected packages: kaggle\n",
            "  Attempting uninstall: kaggle\n",
            "    Found existing installation: kaggle 1.5.12\n",
            "    Uninstalling kaggle-1.5.12:\n",
            "      Successfully uninstalled kaggle-1.5.12\n",
            "Successfully installed kaggle-1.5.8\n",
            "Looking in indexes: https://pypi.org/simple, https://us-python.pkg.dev/colab-wheels/public/simple/\n",
            "Collecting kaggle\n",
            "  Using cached kaggle-1.5.12-py3-none-any.whl\n",
            "Installing collected packages: kaggle\n",
            "  Attempting uninstall: kaggle\n",
            "    Found existing installation: kaggle 1.5.8\n",
            "    Uninstalling kaggle-1.5.8:\n",
            "      Successfully uninstalled kaggle-1.5.8\n",
            "Successfully installed kaggle-1.5.12\n",
            "mkdir: cannot create directory ‘/root/.kaggle’: File exists\n"
          ]
        }
      ],
      "source": [
        "!pip install --upgrade --force-reinstall --no-deps kaggle==1.5.8\n",
        "!pip install --upgrade --force-reinstall --no-deps kaggle \n",
        "!mkdir /root/.kaggle\n",
        "\n",
        "with open(\"/root/.kaggle/kaggle.json\", \"w+\") as f:\n",
        "    f.write('{\"username\":\"shekennotstirred\",\"key\":\"c0878af19b47a450335ad68980815833\"}') \n",
        "    # Put your kaggle username & key here\n",
        "\n",
        "!chmod 600 /root/.kaggle/kaggle.json"
      ]
    },
    {
      "cell_type": "code",
      "execution_count": 9,
      "metadata": {
        "id": "if2Somqfbje1",
        "outputId": "7f2fe93e-2562-4297-c9e8-0699bffc9fbe",
        "colab": {
          "base_uri": "https://localhost:8080/"
        }
      },
      "outputs": [
        {
          "output_type": "stream",
          "name": "stdout",
          "text": [
            ".   11-785-s23-hw1p2.zip  data\t model_arch.txt  submission.csv\n",
            "..  .config\t\t  drive  sample_data\t wandb\n",
            "11-785-s23-hw1p2.zip: Skipping, found more recently modified local copy (use --force to force download)\n",
            "mkdir: cannot create directory ‘/content/data/’: File exists\n"
          ]
        }
      ],
      "source": [
        "# commands to download data from kaggle\n",
        "\n",
        "import os\n",
        "import errno\n",
        "directory_name = '/content/drive/MyDrive/11-785-IDL/HW/HW1/P2/data'\n",
        "try:\n",
        "    os.makedirs(directory_name)\n",
        "except OSError as exc: \n",
        "    if exc.errno == errno.EEXIST and os.path.isdir(directory_name):\n",
        "        pass\n",
        "\n",
        "! cd /content/drive/MyDrive/11-785-IDL/HW/HW1/P2/data\n",
        "! ls -a \n",
        "!kaggle competitions download -c 11-785-s23-hw1p2\n",
        "!mkdir '/content/data/'\n",
        "!unzip -qo '11-785-s23-hw1p2.zip' -d '/content/data/'\n",
        "\n",
        "# !mkdir '/content/drive/MyDrive/11-785-IDL/HW/HW1/P2/data'\n",
        "\n",
        "# !unzip -qo '11-785-s23-hw1p2.zip' -d '/content/drive/MyDrive/11-785-IDL/HW/HW1/P2/data'"
      ]
    },
    {
      "cell_type": "markdown",
      "metadata": {
        "id": "Vuzce0_TdcaR"
      },
      "source": [
        "# Dataset"
      ]
    },
    {
      "cell_type": "markdown",
      "metadata": {
        "id": "2_7QgMbBdgPp"
      },
      "source": [
        "This section covers the dataset/dataloader class for speech data. You will have to spend time writing code to create this class successfully. We have given you a lot of comments guiding you on what code to write at each stage, from top to bottom of the class. Please try and take your time figuring this out, as it will immensely help in creating dataset/dataloader classes for future homeworks.\n",
        "\n",
        "Before running the following cells, please take some time to analyse the structure of data. Try loading a single MFCC and its transcipt, print out the shapes and print out the values. Do the transcripts look like phonemes?"
      ]
    },
    {
      "cell_type": "code",
      "execution_count": 10,
      "metadata": {
        "id": "YpLCvi3AJC5z"
      },
      "outputs": [],
      "source": [
        "# Dataset class to load train and validation data\n",
        "\n",
        "class AudioDataset(torch.utils.data.Dataset):\n",
        "\n",
        "    def __init__(self, root, partition, context, phonemes, portion=1): # Feel free to add more arguments\n",
        "\n",
        "        self.context = context\n",
        "        self.phonemes = phonemes\n",
        "        self.root = root\n",
        "        self.partition = partition\n",
        "        \n",
        "        # MFCC directory - use partition to acces train/dev directories from kaggle data using root\n",
        "        self.mfcc_dir       = self.root + self.partition + '/' + 'mfcc/'\n",
        "        # Transcripts directory - use partition to acces train/dev directories from kaggle data using root\n",
        "        self.transcript_dir = self.root + self.partition + '/' + 'transcript/'\n",
        "\n",
        "        # List files in sefl.mfcc_dir using os.listdir in sorted order\n",
        "        mfcc_names          = sorted(os.listdir(self.mfcc_dir)) \n",
        "        # List files in self.transcript_dir using os.listdir in sorted order\n",
        "        transcript_names    = sorted(os.listdir(self.transcript_dir))\n",
        "        # Making sure that we have the same no. of mfcc and transcripts\n",
        "        assert len(mfcc_names) == len(transcript_names)\n",
        "\n",
        "        max_index = math.floor(len(mfcc_names) * portion)\n",
        "        self.mfccs, self.transcripts = [], []\n",
        "\n",
        "        # Iterate through mfccs and transcripts\n",
        "        for i in range(max_index):\n",
        "        # for i in range(10):\n",
        "        #   Load a single mfcc\n",
        "            mfcc = np.load(self.mfcc_dir + mfcc_names[i])\n",
        "        #   Do Cepstral Normalization of mfcc (explained in writeup)\n",
        "            mfcc = (mfcc - np.mean(mfcc, axis=0)) / np.std(mfcc, axis=0)\n",
        "        \n",
        "        #   Load the corresponding transcript\n",
        "            # Remove [SOS] and [EOS] from the transcript \n",
        "            # (Is there an efficient way to do this without traversing through the transcript?)\n",
        "            # Note that SOS will always be in the starting and EOS at end, as the name suggests.\n",
        "            transcript  = np.load(self.transcript_dir + transcript_names[i])[1:-1]\n",
        "\n",
        "        #   Append each mfcc to self.mfcc, transcript to self.transcript\n",
        "            self.mfccs.append(mfcc)\n",
        "            self.transcripts.append(transcript)        \n",
        "\n",
        "        # NOTE:\n",
        "        # Each mfcc is of shape T1 x 27, T2 x 27, ...\n",
        "        # Each transcript is of shape (T1+2) x 27, (T2+2) x 27 before removing [SOS] and [EOS]\n",
        "\n",
        "        # Concatenate all mfccs in self.mfccs such that \n",
        "        # the final shape is T x 27 (Where T = T1 + T2 + ...)\n",
        "        self.mfccs = np.concatenate(self.mfccs, axis=0)\n",
        "        # self.mfccs = np.reshape(self.mfccs, (-1, 27))\n",
        "\n",
        "        # Concatenate all transcripts in self.transcripts such that \n",
        "        # the final shape is (T,) meaning, each time step has one phoneme output\n",
        "        self.transcripts = np.concatenate(self.transcripts, axis=0)\n",
        "        # self.transcripts = np.reshape(self.transcripts, (-1,))\n",
        "\n",
        "        # Length of the dataset is now the length of concatenated mfccs/transcripts\n",
        "        self.length = len(self.mfccs)\n",
        "\n",
        "        # Take some time to think about what we have done. \n",
        "        # self.mfcc is an array of the format (Frames x Features). \n",
        "        # Our goal is to recognize phonemes of each frame\n",
        "        # From hw0, you will be knowing what context is. \n",
        "        # We can introduce context by padding zeros on top and bottom of self.mfcc\n",
        "        # self.X = np.pad(self.X, ((context, context), (0, 0)), 'constant', constant_values= 0)\n",
        "        self.mfccs = np.pad(self.mfccs, ((self.context, self.context), (0, 0)), 'constant', constant_values= 0)\n",
        "\n",
        "        # The available phonemes in the transcript are of string data type\n",
        "        # But the neural network cannot predict strings as such. \n",
        "        # Hence, we map these phonemes to integers\n",
        "        # Map the phonemes to their corresponding list indexes in self.phonemes\n",
        "        tokens = range(len(self.phonemes))\n",
        "        self.VOCABULARY = dict(zip(self.phonemes, tokens))\n",
        "        ### Map Labels To Tokens\n",
        "        self.transcripts = [self.VOCABULARY[phoneme] for phoneme in self.transcripts]\n",
        "        # Now, if an element in self.transcript is 0, it means that it is 'SIL' (as per the above example)\n",
        "\n",
        "    def __len__(self):\n",
        "        return self.length\n",
        "\n",
        "    def __getitem__(self, ind):\n",
        "        # Based on context and offset, return a frame at given index with context frames to the left, and right.\n",
        "        # After slicing, you get an array of shape 2*context+1 x 27. But our MLP needs 1d data and not 2d.\n",
        "        # Flatten to get 1d data\n",
        "        frames = self.mfccs[ind:ind+2*self.context+1, :].flatten()\n",
        "        # frames = self.mfccs[ind-self.context:ind+self.context+1, :].flatten()\n",
        "        # print(frames.shape)\n",
        "        frames = torch.FloatTensor(frames)\n",
        "        phonemes = torch.tensor(self.transcripts[ind])       \n",
        "\n",
        "        return frames, phonemes"
      ]
    },
    {
      "cell_type": "code",
      "execution_count": 11,
      "metadata": {
        "id": "e8KfVP39S6o7"
      },
      "outputs": [],
      "source": [
        "class AudioTestDataset(torch.utils.data.Dataset):    \n",
        "    # TODO: Create a test dataset class similar to the previous class but you dont have transcripts for this\n",
        "    # Imp: Read the mfccs in sorted order, do NOT shuffle the data here or in your dataloader.\n",
        "    def __init__(self, root, context, phonemes, partition): # Feel free to add more arguments\n",
        "\n",
        "      self.context = context\n",
        "      self.phonemes = phonemes\n",
        "      self.root = root\n",
        "      \n",
        "      # MFCC directory - use partition to acces train/dev directories from kaggle data using root\n",
        "      self.mfcc_dir       = self.root + partition + '/' + 'mfcc/'\n",
        "\n",
        "      # List files in sefl.mfcc_dir using os.listdir in sorted order\n",
        "      mfcc_names          = sorted(os.listdir(self.mfcc_dir)) \n",
        "\n",
        "      self.mfccs = []\n",
        "\n",
        "      # Iterate through mfccs and transcripts\n",
        "      for i in range(len(mfcc_names)):\n",
        "      # for i in range(10):\n",
        "      #   Load a single mfcc\n",
        "          mfcc = np.load(self.mfcc_dir + mfcc_names[i])\n",
        "      #   Do Cepstral Normalization of mfcc (explained in writeup)\n",
        "          mfcc = (mfcc - np.mean(mfcc, axis=0))/ np.std(mfcc, axis=0)\n",
        "\n",
        "      #   Append each mfcc to self.mfcc\n",
        "          self.mfccs.append(mfcc)\n",
        "\n",
        "      # NOTE:\n",
        "      # Each mfcc is of shape T1 x 27, T2 x 27, ...\n",
        "\n",
        "      # Concatenate all mfccs in self.mfccs such that \n",
        "      # the final shape is T x 27 (Where T = T1 + T2 + ...)\n",
        "      self.mfccs = np.concatenate(self.mfccs, axis=0)\n",
        "      # self.mfccs = np.reshape(self.mfccs, (-1, 27))\n",
        "      # print(self.mfccs.shape)\n",
        "\n",
        "      # Hint: Use numpy to concatenate\n",
        "      # Length of the dataset is now the length of concatenated mfccs/transcripts\n",
        "      self.length = len(self.mfccs)\n",
        "\n",
        "      # Take some time to think about what we have done. \n",
        "      # self.mfcc is an array of the format (Frames x Features). \n",
        "      # Our goal is to recognize phonemes of each frame\n",
        "      # From hw0, you will be knowing what context is. \n",
        "      # We can introduce context by padding zeros on top and bottom of self.mfcc\n",
        "      # self.X = np.pad(self.X, ((context, context), (0, 0)), 'constant', constant_values= 0)\n",
        "      self.mfccs = np.pad(self.mfccs, ((self.context, self.context), (0, 0)), 'constant', constant_values= 0)\n",
        "\n",
        "    def __len__(self):\n",
        "        return self.length\n",
        "\n",
        "    def __getitem__(self, ind):\n",
        "        # Based on context and offset, return a frame at given index with context frames to the left, and right.\n",
        "        # After slicing, you get an array of shape 2*context+1 x 27. But our MLP needs 1d data and not 2d.\n",
        "        # Flatten to get 1d data\n",
        "        frames = self.mfccs[ind:ind+2*self.context+1, :].flatten()\n",
        "        frames = torch.FloatTensor(frames)\n",
        "\n",
        "        return frames"
      ]
    },
    {
      "cell_type": "markdown",
      "metadata": {
        "id": "qNacQ8bpt9nw"
      },
      "source": [
        "# Parameters Configuration"
      ]
    },
    {
      "cell_type": "markdown",
      "metadata": {
        "id": "WE7tsinAuLNy"
      },
      "source": [
        "Storing your parameters and hyperparameters in a single configuration dictionary makes it easier to keep track of them during each experiment. It can also be used with weights and biases to log your parameters for each experiment and keep track of them across multiple experiments. "
      ]
    },
    {
      "cell_type": "code",
      "execution_count": 12,
      "metadata": {
        "id": "PmKwlFqgt_Zq",
        "colab": {
          "base_uri": "https://localhost:8080/",
          "height": 35
        },
        "outputId": "72195d8e-9ac1-46a5-fb20-7492bb8dc936"
      },
      "outputs": [
        {
          "output_type": "execute_result",
          "data": {
            "text/plain": [
              "\"\\nPaul's Architecture 1 = 60.58%\\n\""
            ],
            "application/vnd.google.colaboratory.intrinsic+json": {
              "type": "string"
            }
          },
          "metadata": {},
          "execution_count": 12
        }
      ],
      "source": [
        "\"\"\"\n",
        "Paul's Architecture 1 = 60.58%\n",
        "\"\"\"\n",
        "\n",
        "# config = {\n",
        "#     'epochs'        : 30,\n",
        "#     'batch_size'    : 1024,\n",
        "#     'context'       : 30,\n",
        "#     'init_lr'       : 0.0005,\n",
        "#     'architecture'  : 'very-low-cutoff',\n",
        "#     'train_dataset' : 'train-clean-100',\n",
        "#     'val_dataset'   : 'dev-clean',\n",
        "#     'test_dataset'  : 'test-clean',\n",
        "#     'dropout_rate'  : 0.15,\n",
        "#     'weight_decay'  : 1e-2,\n",
        "#     'step_size'     : 7\n",
        "#     # Add more as you need them - e.g dropout values, weight decay, scheduler parameters\n",
        "# }"
      ]
    },
    {
      "cell_type": "code",
      "source": [
        "# \"\"\"\n",
        "# Thomas's 75% Architecture 1 = 73%\n",
        "# \"\"\"\n",
        "\n",
        "# config = {\n",
        "#     'epochs'        : 5,\n",
        "#     'batch_size'    : 1024,\n",
        "#     'context'       : 10,\n",
        "#     'init_lr'       : 1e-4,\n",
        "#     'architecture'  : 'low-cutoff',\n",
        "#     'train_dataset' : 'train-clean-100',\n",
        "#     'val_dataset'   : 'dev-clean',\n",
        "#     'test_dataset'  : 'test-clean',\n",
        "#     'dropout_rate'  : 0,\n",
        "#     'weight_decay'  : 1e-2,\n",
        "#     'step_size'     : 1\n",
        "#     # Add more as you need them - e.g dropout values, weight decay, scheduler parameters\n",
        "# }"
      ],
      "metadata": {
        "id": "6iiHknCvlY_N"
      },
      "execution_count": 13,
      "outputs": []
    },
    {
      "cell_type": "code",
      "source": [
        "# \"\"\"\n",
        "# Thomas's 75% Architecture 1 = 73%\n",
        "# \"\"\"\n",
        "\n",
        "# config = {\n",
        "#     'epochs'        : 5,\n",
        "#     'batch_size'    : 1024,\n",
        "#     'context'       : 10,\n",
        "#     'init_lr'       : 1e-4,\n",
        "#     'architecture'  : 'low-cutoff',\n",
        "#     'train_dataset' : 'train-clean-100',\n",
        "#     'val_dataset'   : 'dev-clean',\n",
        "#     'test_dataset'  : 'test-clean',\n",
        "#     'dropout_rate'  : 0,\n",
        "#     'weight_decay'  : 1e-2,\n",
        "#     'step_size'     : 1\n",
        "#     # Add more as you need them - e.g dropout values, weight decay, scheduler parameters\n",
        "# }"
      ],
      "metadata": {
        "id": "TIiCldebRtuO"
      },
      "execution_count": 14,
      "outputs": []
    },
    {
      "cell_type": "code",
      "source": [
        "\"\"\"\n",
        "Paul's Arch 2 = %\n",
        "\"\"\"\n",
        "\n",
        "config = {\n",
        "    'epochs'        : 30,\n",
        "    'batch_size'    : 1024,\n",
        "    'context'       : 30,\n",
        "    'init_lr'       : 1e-3,\n",
        "    'architecture'  : 'medium-cutoff',\n",
        "    'train_dataset' : 'train-clean-360',\n",
        "    'val_dataset'   : 'dev-clean',\n",
        "    'test_dataset'  : 'test-clean',\n",
        "    'dropout_rate'  : 0.2,\n",
        "    'weight_decay'  : 1e-2,\n",
        "    # 'step_size'     : 1\n",
        "    # Add more as you need them - e.g dropout values, weight decay, scheduler parameters\n",
        "}"
      ],
      "metadata": {
        "id": "1I9rgS47R67F"
      },
      "execution_count": 15,
      "outputs": []
    },
    {
      "cell_type": "markdown",
      "metadata": {
        "id": "2mlwaKlDt_2c"
      },
      "source": [
        "# Create Datasets"
      ]
    },
    {
      "cell_type": "code",
      "execution_count": null,
      "metadata": {
        "id": "7xi7V8x8W9z4"
      },
      "outputs": [],
      "source": [
        "#TODO: Create a dataset object using the AudioDataset class for the training data \n",
        "root_dir = '/content/data/11-785-s23-hw1p2/'\n",
        "train_data = AudioDataset(root=root_dir, partition=config['train_dataset'], phonemes=PHONEMES, context=config['context'], portion=1)\n",
        "\n",
        "# # TODO: Create a dataset object using the AudioDataset class for the validation data \n",
        "val_data = AudioDataset(root=root_dir, partition=config['val_dataset'], phonemes=PHONEMES, context=config['context'])\n",
        "\n",
        "# # TODO: Create a dataset object using the AudioTestDataset class for the test data \n",
        "test_data = AudioTestDataset(root=root_dir, partition=config['test_dataset'], phonemes=PHONEMES, context=config['context'])"
      ]
    },
    {
      "cell_type": "code",
      "execution_count": null,
      "metadata": {
        "id": "4mzoYfTKu14s"
      },
      "outputs": [],
      "source": [
        "# Define dataloaders for train, val and test datasets\n",
        "# Dataloaders will yield a batch of frames and phonemes of given batch_size at every iteration\n",
        "# We shuffle train dataloader but not val & test dataloader. Why?\n",
        "\n",
        "train_loader = torch.utils.data.DataLoader(\n",
        "    dataset     = train_data, \n",
        "    num_workers = 4,\n",
        "    batch_size  = config['batch_size'], \n",
        "    pin_memory  = True,\n",
        "    shuffle     = True\n",
        ")\n",
        "\n",
        "val_loader = torch.utils.data.DataLoader(\n",
        "    dataset     = val_data, \n",
        "    num_workers = 2,\n",
        "    batch_size  = config['batch_size'],\n",
        "    pin_memory  = True,\n",
        "    shuffle     = False\n",
        ")\n",
        "\n",
        "test_loader = torch.utils.data.DataLoader(\n",
        "    dataset     = test_data, \n",
        "    num_workers = 2, \n",
        "    batch_size  = config['batch_size'], \n",
        "    pin_memory  = True, \n",
        "    shuffle     = False\n",
        ")\n",
        "\n",
        "\n",
        "print(\"Batch size     : \", config['batch_size'])\n",
        "print(\"Context        : \", config['context'])\n",
        "print(\"Input size     : \", (2*config['context']+1)*27)\n",
        "print(\"Output symbols : \", len(PHONEMES))\n",
        "\n",
        "print(\"Train dataset samples = {}, batches = {}\".format(train_data.__len__(), len(train_loader)))\n",
        "print(\"Validation dataset samples = {}, batches = {}\".format(val_data.__len__(), len(val_loader)))\n",
        "print(\"Test dataset samples = {}, batches = {}\".format(test_data.__len__(), len(test_loader)))"
      ]
    },
    {
      "cell_type": "code",
      "execution_count": null,
      "metadata": {
        "id": "n-GV3UvgLSoF"
      },
      "outputs": [],
      "source": [
        "# Testing code to check if your data loaders are working\n",
        "for i, data in enumerate(val_loader):\n",
        "    frames, phoneme = data\n",
        "    print(frames.shape, phoneme.shape)\n",
        "    break"
      ]
    },
    {
      "cell_type": "code",
      "source": [
        "# Testing code to check if your data loaders are working\n",
        "val_phonemes = []\n",
        "for i, val_data in enumerate(val_loader):\n",
        "    val_frames, val_phoneme = val_data\n",
        "    val_phonemes.append(val_phoneme.cpu().numpy())\n",
        "\n",
        "# print(val_phonemes[0])\n",
        "val_phonemes = np.concatenate(val_phonemes)\n",
        "print(np.unique(val_phonemes, return_counts=True))\n",
        "sil_index = np.argmax(np.unique(val_phonemes, return_counts=True)[1])\n",
        "sil_count = np.max(np.unique(val_phonemes, return_counts=True)[1])\n",
        "low_index = np.argmin(np.unique(val_phonemes, return_counts=True)[1])\n",
        "low_count = np.min(np.unique(val_phonemes, return_counts=True)[1])\n",
        "print(PHONEMES[sil_index])\n",
        "print(sil_count)\n",
        "print(PHONEMES[low_index])\n",
        "print(low_count)\n"
      ],
      "metadata": {
        "id": "g4nmtcd1V8bb"
      },
      "execution_count": null,
      "outputs": []
    },
    {
      "cell_type": "markdown",
      "metadata": {
        "id": "Nxjwve20JRJ2"
      },
      "source": [
        "# Network Architecture\n"
      ]
    },
    {
      "cell_type": "markdown",
      "metadata": {
        "id": "3NJzT-mRw6iy"
      },
      "source": [
        "This section defines your network architecture for the homework. We have given you a sample architecture that can easily clear the very low cutoff for the early submission deadline."
      ]
    },
    {
      "cell_type": "code",
      "execution_count": null,
      "metadata": {
        "id": "OvcpontXQq9j"
      },
      "outputs": [],
      "source": [
        "\"\"\"\n",
        "Paul's Architecture - 1 = 60.8%\n",
        "\"\"\"\n",
        "\n",
        "# # This architecture will make you cross the very low cutoff\n",
        "# # However, you need to run a lot of experiments to cross the medium or high cutoff\n",
        "# class Network(torch.nn.Module):\n",
        "\n",
        "#     def __init__(self, input_size, output_size, dropout_rate):\n",
        "\n",
        "#         super(Network, self).__init__()\n",
        "\n",
        "#         self.model = torch.nn.Sequential(\n",
        "#             torch.nn.Linear(input_size, 3918),\n",
        "#             torch.nn.BatchNorm1d(3918),\n",
        "#             torch.nn.GELU(),\n",
        "#             torch.nn.Linear(3918, 1136),\n",
        "#             torch.nn.BatchNorm1d(1136),\n",
        "#             torch.nn.GELU(),\n",
        "#             torch.nn.Dropout(p=dropout_rate),\n",
        "#             torch.nn.Linear(1136, 3168),\n",
        "#             torch.nn.BatchNorm1d(3168),\n",
        "#             torch.nn.GELU(),\n",
        "#             torch.nn.Dropout(p=dropout_rate),\n",
        "#             torch.nn.Linear(3168, 869),\n",
        "#             torch.nn.BatchNorm1d(869),\n",
        "#             torch.nn.GELU(),\n",
        "#             torch.nn.Dropout(p=dropout_rate),\n",
        "#             torch.nn.Linear(869, 240),\n",
        "#             torch.nn.BatchNorm1d(240),\n",
        "#             torch.nn.GELU(),\n",
        "#             torch.nn.Dropout(p=dropout_rate),\n",
        "#             torch.nn.Linear(240, 167),\n",
        "#             torch.nn.BatchNorm1d(167),\n",
        "#             torch.nn.GELU(),\n",
        "#             torch.nn.Dropout(p=dropout_rate),\n",
        "#             torch.nn.Linear(167, output_size)\n",
        "#         )\n",
        "#         self.apply(self._init_weights)\n",
        "\n",
        "#     def _init_weights(self, m):\n",
        "#       if isinstance(m, torch.nn.Linear):\n",
        "#         torch.nn.init.kaiming_uniform(m.weight)\n",
        "#         torch.nn.init.zeros_(m.bias)\n",
        "\n",
        "#     def forward(self, x):\n",
        "#         out = self.model(x)\n",
        "\n",
        "#         return out"
      ]
    },
    {
      "cell_type": "code",
      "source": [
        "\"\"\"\n",
        "Thomas's 75% Architecture 1 = 73%\n",
        "\"\"\"\n",
        "# # This architecture will make you cross the very low cutoff\n",
        "# # However, you need to run a lot of experiments to cross the medium or high cutoff\n",
        "# class Network(torch.nn.Module):\n",
        "\n",
        "#     def __init__(self, input_size, output_size, dropout_rate):\n",
        "\n",
        "#         super(Network, self).__init__()\n",
        "        \n",
        "#         self.model = torch.nn.Sequential(\n",
        "#             torch.nn.Linear(input_size, 1536),\n",
        "#             torch.nn.BatchNorm1d(1536),\n",
        "#             torch.nn.GELU(), # Layer 1\n",
        "#             torch.nn.Linear(1536, 1536),\n",
        "#             torch.nn.BatchNorm1d(1536),\n",
        "#             torch.nn.GELU(), # Layer 2\n",
        "#             torch.nn.Linear(1536, 1536),\n",
        "#             torch.nn.BatchNorm1d(1536),\n",
        "#             torch.nn.GELU(), # Layer 3\n",
        "#             torch.nn.Linear(1536, 1536),\n",
        "#             torch.nn.BatchNorm1d(1536),\n",
        "#             torch.nn.GELU(), # Layer 4\n",
        "#             torch.nn.Linear(1536, 1536),\n",
        "#             torch.nn.BatchNorm1d(1536),\n",
        "#             torch.nn.GELU(), # Layer 5\n",
        "#             torch.nn.Linear(1536, 1536),\n",
        "#             torch.nn.BatchNorm1d(1536),\n",
        "#             torch.nn.GELU(), # Layer 6\n",
        "#             torch.nn.Linear(1536, 1536),\n",
        "#             torch.nn.BatchNorm1d(1536),\n",
        "#             torch.nn.GELU(), # Layer 7\n",
        "#             torch.nn.Linear(1536, 1536),\n",
        "#             torch.nn.BatchNorm1d(1536),\n",
        "#             torch.nn.GELU(), # Layer 8\n",
        "#             torch.nn.Linear(1536, output_size))\n",
        "        \n",
        "#         #self.apply(self._init_weights)\n",
        "\n",
        "#     #def _init_weights(self, m):\n",
        "#     #  if isinstance(m, torch.nn.Linear):\n",
        "#     #      torch.nn.init.normal_(m.weight, mean=0, std=0.0001)\n",
        "#     #      torch.nn.init.zeros_(m.bias)\n",
        "        \n",
        "#     def forward(self, x):\n",
        "#         out = self.model(x)\n",
        "\n",
        "#         return out"
      ],
      "metadata": {
        "id": "Y-tTWzmfmu-5"
      },
      "execution_count": null,
      "outputs": []
    },
    {
      "cell_type": "code",
      "source": [
        "\"\"\"\n",
        "Paul's Architecture 2 on full tc-100 = %\n",
        "\"\"\"\n",
        "class Network(torch.nn.Module):\n",
        "\n",
        "    def __init__(self, input_size, output_size, dropout_rate):\n",
        "\n",
        "        super(Network, self).__init__()\n",
        "        \n",
        "        self.model = torch.nn.Sequential(\n",
        "            \n",
        "            #Input to Hidden layer 1\n",
        "            torch.nn.Linear(input_size, 2048),\n",
        "            torch.nn.BatchNorm1d(2048),\n",
        "            torch.nn.GELU(), # Layer 1\n",
        "            torch.nn.Dropout(p=dropout_rate),\n",
        "\n",
        "            #Hidden layer 2\n",
        "            torch.nn.Linear(2048, 2048),\n",
        "            torch.nn.BatchNorm1d(2048),\n",
        "            torch.nn.GELU(), # Layer 2\n",
        "            torch.nn.Dropout(p=dropout_rate),\n",
        "\n",
        "\n",
        "            #Hidden layer 3\n",
        "            torch.nn.Linear(2048, 2048),\n",
        "            torch.nn.BatchNorm1d(2048),\n",
        "            torch.nn.GELU(), # Layer 3\n",
        "            torch.nn.Dropout(p=dropout_rate),\n",
        "\n",
        "            #Hidden layer 4\n",
        "            torch.nn.Linear(2048, 2048),\n",
        "            torch.nn.BatchNorm1d(2048),\n",
        "            torch.nn.GELU(), # Layer 4\n",
        "            torch.nn.Dropout(p=dropout_rate),\n",
        "\n",
        "            #Hidden layer 5\n",
        "            torch.nn.Linear(2048, 1200),\n",
        "            torch.nn.BatchNorm1d(1200),\n",
        "            torch.nn.GELU(), # Layer 5\n",
        "            torch.nn.Dropout(p=dropout_rate),\n",
        "\n",
        "            #Hidden layer 6\n",
        "            \n",
        "            torch.nn.Linear(1200, 1024),\n",
        "            torch.nn.BatchNorm1d(1024),\n",
        "            torch.nn.GELU(), # Layer 6\n",
        "            torch.nn.Dropout(p=dropout_rate),\n",
        "\n",
        "            #Linear Layer classifcation to 42 \n",
        "            torch.nn.Linear(1024, output_size))\n",
        "        \n",
        "        self.apply(self._init_weights)\n",
        "\n",
        "    def _init_weights(self, m):\n",
        "      if isinstance(m, torch.nn.Linear):\n",
        "        torch.nn.init.kaiming_uniform_(m.weight)\n",
        "        torch.nn.init.zeros_(m.bias)\n",
        "        \n",
        "    def forward(self, x):\n",
        "        out = self.model(x)\n",
        "\n",
        "        return out"
      ],
      "metadata": {
        "id": "UDc4xkreTVj0"
      },
      "execution_count": null,
      "outputs": []
    },
    {
      "cell_type": "code",
      "source": [
        "# # This architecture will make you cross the very low cutoff\n",
        "# # However, you need to run a lot of experiments to cross the medium or high cutoff\n",
        "# class Network(torch.nn.Module):\n",
        "\n",
        "#     def __init__(self, input_size, output_size, dropout_rate):\n",
        "\n",
        "#         super(Network, self).__init__()\n",
        "\n",
        "#         self.model = torch.nn.Sequential(\n",
        "#             torch.nn.Linear(input_size, 3918),\n",
        "#             torch.nn.BatchNorm1d(3918),\n",
        "#             torch.nn.GELU(),\n",
        "#             torch.nn.Linear(3918, 1136),\n",
        "#             torch.nn.BatchNorm1d(1136),\n",
        "#             torch.nn.GELU(),\n",
        "#             torch.nn.Dropout(p=dropout_rate),\n",
        "#             torch.nn.Linear(1136, 3168),\n",
        "#             torch.nn.BatchNorm1d(3168),\n",
        "#             torch.nn.GELU(),\n",
        "#             torch.nn.Dropout(p=dropout_rate),\n",
        "#             torch.nn.Linear(3168, 869),\n",
        "#             torch.nn.BatchNorm1d(869),\n",
        "#             torch.nn.GELU(),\n",
        "#             torch.nn.Dropout(p=dropout_rate),\n",
        "#             torch.nn.Linear(869, 240),\n",
        "#             torch.nn.BatchNorm1d(240),\n",
        "#             torch.nn.GELU(),\n",
        "#             torch.nn.Dropout(p=dropout_rate),\n",
        "#             torch.nn.Linear(240, 167),\n",
        "#             torch.nn.BatchNorm1d(167),\n",
        "#             torch.nn.GELU(),\n",
        "#             torch.nn.Dropout(p=dropout_rate),\n",
        "#             torch.nn.Linear(167, output_size)\n",
        "#         )\n",
        "#         self.apply(self._init_weights)\n",
        "\n",
        "#     def _init_weights(self, m):\n",
        "#       if isinstance(m, torch.nn.Linear):\n",
        "#         torch.nn.init.kaiming_uniform(m.weight)\n",
        "#         torch.nn.init.zeros_(m.bias)\n",
        "\n",
        "#     def forward(self, x):\n",
        "#         out = self.model(x)\n",
        "\n",
        "#         return out"
      ],
      "metadata": {
        "id": "OJkOEFGtmaoz"
      },
      "execution_count": null,
      "outputs": []
    },
    {
      "cell_type": "markdown",
      "metadata": {
        "id": "HejoSXe3vMVU"
      },
      "source": [
        "# Define Model, Loss Function and Optimizer"
      ]
    },
    {
      "cell_type": "markdown",
      "metadata": {
        "id": "xAhGBH7-xxth"
      },
      "source": [
        "Here we define the model, loss function, optimizer and optionally a learning rate scheduler. "
      ]
    },
    {
      "cell_type": "code",
      "execution_count": null,
      "metadata": {
        "id": "_qtrEM1ZvLje"
      },
      "outputs": [],
      "source": [
        "INPUT_SIZE  = (2*config['context'] + 1) * 27 # Why is this the case?\n",
        "model       = Network(INPUT_SIZE, len(train_data.phonemes),dropout_rate=config['dropout_rate']).to(device)\n",
        "summary(model, frames.to(device))\n",
        "# summary(model, frames.to(device))\n",
        "# Check number of parameters of your network\n",
        "# Remember, you are limited to 20 million parameters for HW1 (including ensembles)"
      ]
    },
    {
      "cell_type": "code",
      "execution_count": null,
      "metadata": {
        "id": "UROGEVJevKD-"
      },
      "outputs": [],
      "source": [
        "criterion = torch.nn.CrossEntropyLoss() # Defining Loss function. \n",
        "# We use CE because the task is multi-class classification \n",
        "# optimizer = torch.optim.Adam(model.parameters(), lr= config['init_lr']) #Defining Optimizer\n",
        "optimizer = torch.optim.AdamW(params=model.parameters(), lr= config['init_lr'])\n",
        "\n",
        "# optimizer = torch.optim.Adam(model.parameters(), lr= config['init_lr'], weight_decay=config['weight_decay']) #Defining Optimizer\n",
        "# Recommended : Define Scheduler for Learning Rate, \n",
        "# scheduler = torch.optim.lr_scheduler.StepLR(optimizer, step_size=config['step_size'], gamma=0.1)\n",
        "#scheduler = torch.optim.lr_scheduler.ReduceLROnPlateau(optimizer=optimizer, patience=2)\n",
        "scheduler = torch.optim.lr_scheduler.MultiStepLR(optimizer, milestones=[15,20,23,26,29], gamma=0.8, last_epoch=- 1, verbose=False)\n",
        "# including but not limited to StepLR, MultiStepLR, CosineAnnealingLR, ReduceLROnPlateau, etc. \n",
        "# You can refer to Pytorch documentation for more information on how to use them.\n",
        "\n",
        "# Is your training time very high? \n",
        "# Look into mixed precision training if your GPU (Tesla T4, V100, etc) can make use of it \n",
        "# Refer - https://pytorch.org/docs/stable/notes/amp_examples.html"
      ]
    },
    {
      "cell_type": "markdown",
      "metadata": {
        "id": "IBwunYpyugFg"
      },
      "source": [
        "# Training and Validation Functions"
      ]
    },
    {
      "cell_type": "markdown",
      "metadata": {
        "id": "1JgeNhx4x2-P"
      },
      "source": [
        "This section covers the training, and validation functions for each epoch of running your experiment with a given model architecture. The code has been provided to you, but we recommend going through the comments to understand the workflow to enable you to write these loops for future HWs."
      ]
    },
    {
      "cell_type": "code",
      "execution_count": null,
      "metadata": {
        "id": "XblOHEVtKab2"
      },
      "outputs": [],
      "source": [
        "torch.cuda.empty_cache()\n",
        "gc.collect()"
      ]
    },
    {
      "cell_type": "code",
      "execution_count": null,
      "metadata": {
        "id": "8wjPz7DHqKcL"
      },
      "outputs": [],
      "source": [
        "def train(model, dataloader, optimizer, criterion):\n",
        "\n",
        "    model.train()\n",
        "    tloss, tacc = 0, 0 # Monitoring loss and accuracy\n",
        "    batch_bar   = tqdm(total=len(train_loader), dynamic_ncols=True, leave=False, position=0, desc='Train')\n",
        "    \n",
        "    for i, (frames, phonemes) in enumerate(dataloader):\n",
        "        \n",
        "        ### Initialize Gradients\n",
        "        optimizer.zero_grad()\n",
        "\n",
        "        ### Move Data to Device (Ideally GPU)\n",
        "        frames      = frames.to(device)\n",
        "        phonemes    = phonemes.to(device)\n",
        "\n",
        "        ### Forward Propagation\n",
        "        logits  = model(frames)\n",
        "\n",
        "        ### Loss Calculation\n",
        "        loss    = criterion(logits, phonemes)\n",
        "\n",
        "        ### Backward Propagation\n",
        "        loss.backward() \n",
        "        \n",
        "        ### Gradient Descent\n",
        "        optimizer.step()       \n",
        "\n",
        "        tloss   += loss.item()\n",
        "        tacc    += torch.sum(torch.argmax(logits, dim= 1) == phonemes).item()/logits.shape[0]\n",
        "\n",
        "        batch_bar.set_postfix(loss=\"{:.04f}\".format(float(tloss / (i + 1))), \n",
        "                              acc=\"{:.04f}%\".format(float(tacc*100 / (i + 1))))\n",
        "        batch_bar.update()\n",
        "\n",
        "        ### Release memory\n",
        "        del frames, phonemes, logits\n",
        "        torch.cuda.empty_cache()\n",
        "  \n",
        "    batch_bar.close()\n",
        "    tloss   /= len(train_loader)\n",
        "    tacc    /= len(train_loader)\n",
        "\n",
        "    return tloss, tacc"
      ]
    },
    {
      "cell_type": "code",
      "execution_count": null,
      "metadata": {
        "id": "Q5npQNFH315V"
      },
      "outputs": [],
      "source": [
        "def eval(model, dataloader):\n",
        "\n",
        "    model.eval() # set model in evaluation mode\n",
        "    vloss, vacc = 0, 0 # Monitoring loss and accuracy\n",
        "    batch_bar   = tqdm(total=len(val_loader), dynamic_ncols=True, position=0, leave=False, desc='Val')\n",
        "\n",
        "    for i, (frames, phonemes) in enumerate(dataloader):\n",
        "\n",
        "        ### Move data to device (ideally GPU)\n",
        "        frames      = frames.to(device)\n",
        "        phonemes    = phonemes.to(device)\n",
        "\n",
        "        # makes sure that there are no gradients computed as we are not training the model now\n",
        "        with torch.inference_mode(): \n",
        "            ### Forward Propagation\n",
        "            logits  = model(frames)\n",
        "            ### Loss Calculation\n",
        "            loss    = criterion(logits, phonemes)\n",
        "\n",
        "        vloss   += loss.item()\n",
        "        vacc    += torch.sum(torch.argmax(logits, dim= 1) == phonemes).item()/logits.shape[0]\n",
        "        \n",
        "        # Do you think we need loss.backward() and optimizer.step() here?\n",
        "\n",
        "        batch_bar.set_postfix(loss=\"{:.04f}\".format(float(vloss / (i + 1))), \n",
        "                              acc=\"{:.04f}%\".format(float(vacc*100 / (i + 1))))\n",
        "        batch_bar.update()\n",
        "    \n",
        "        ### Release memory\n",
        "        del frames, phonemes, logits\n",
        "        torch.cuda.empty_cache()\n",
        "\n",
        "    batch_bar.close()\n",
        "    vloss   /= len(val_loader)\n",
        "    vacc    /= len(val_loader)\n",
        "\n",
        "    return vloss, vacc"
      ]
    },
    {
      "cell_type": "markdown",
      "metadata": {
        "id": "yMd_XxPku5qp"
      },
      "source": [
        "# Weights and Biases Setup"
      ]
    },
    {
      "cell_type": "markdown",
      "metadata": {
        "id": "tjIbhR1wwbgI"
      },
      "source": [
        "This section is to enable logging metrics and files with Weights and Biases. Please refer to wandb documentationa and recitation 0 that covers the use of weights and biases for logging, hyperparameter tuning and monitoring your runs for your homeworks. Using this tool makes it very easy to show results when submitting your code and models for homeworks, and also extremely useful for study groups to organize and run ablations under a single team in wandb. \n",
        "\n",
        "We have written code for you to make use of it out of the box, so that you start using wandb for all your HWs from the beginning."
      ]
    },
    {
      "cell_type": "code",
      "execution_count": null,
      "metadata": {
        "id": "SCDYx5VEu6qI"
      },
      "outputs": [],
      "source": [
        "wandb.login(key=\"a948a7a6118c9cb14a779f2fbfbf9f4ea1b82754\") #API Key is in your wandb account, under settings (wandb.ai/settings)"
      ]
    },
    {
      "cell_type": "code",
      "execution_count": null,
      "metadata": {
        "id": "xvUnYd3Bw2up"
      },
      "outputs": [],
      "source": [
        "# Create your wandb run\n",
        "run = wandb.init(\n",
        "    name    = \"paul-arch2-mark4\", ### Wandb creates random run names if you skip this field, we recommend you give useful names\n",
        "    reinit  = True, ### Allows reinitalizing runs when you re-run this cell\n",
        "    id     = \"hw1p2-mark6-train360\", ### Insert specific run id here if you want to resume a previous run\n",
        "    # resume = \"must\", ### You need this to resume previous runs, but comment out reinit = True when using this\n",
        "    project = \"hw1p2\", ### Project should be created in your wandb account \n",
        "    config  = config ### Wandb Config for your run\n",
        ")"
      ]
    },
    {
      "cell_type": "code",
      "execution_count": null,
      "metadata": {
        "id": "wft15E_IxYFi"
      },
      "outputs": [],
      "source": [
        "### Save your model architecture as a string with str(model) \n",
        "model_arch  = str(model)\n",
        "\n",
        "### Save it in a txt file \n",
        "arch_file   = open(\"model_arch.txt\", \"w\")\n",
        "file_write  = arch_file.write(model_arch)\n",
        "arch_file.close()\n",
        "\n",
        "### log it in your wandb run with wandb.save()\n",
        "wandb.save('model_arch.txt')"
      ]
    },
    {
      "cell_type": "markdown",
      "metadata": {
        "id": "nclx_04fu7Dd"
      },
      "source": [
        "# Experiment"
      ]
    },
    {
      "cell_type": "code",
      "source": [
        "# checkpoint = torch.load('/content/drive/MyDrive/11-785-IDL/HW/HW1/P2/model_checkpoint.pth1')\n",
        "# model.load_state_dict(checkpoint['model_state_dict'])\n",
        "# optimizer.load_state_dict(checkpoint['optimizer_state_dict'])\n",
        "# torch.cuda.empty_cache()"
      ],
      "metadata": {
        "id": "4CewRYYldvHm"
      },
      "execution_count": null,
      "outputs": []
    },
    {
      "cell_type": "markdown",
      "metadata": {
        "id": "MdLMWfEpyGOB"
      },
      "source": [
        "Now, it is time to finally run your ablations! Have fun!"
      ]
    },
    {
      "cell_type": "code",
      "execution_count": null,
      "metadata": {
        "id": "MG4F77Nm0Am9"
      },
      "outputs": [],
      "source": [
        "# Iterate over number of epochs to train and evaluate your model\n",
        "torch.cuda.empty_cache()\n",
        "gc.collect()\n",
        "wandb.watch(model, log=\"all\")\n",
        "best_val_acc = 0\n",
        "\n",
        "for epoch in range(config['epochs']):\n",
        "\n",
        "    print(\"\\nEpoch {}/{}\".format(epoch+1, config['epochs']))\n",
        "\n",
        "    curr_lr                 = float(optimizer.param_groups[0]['lr'])\n",
        "    train_loss, train_acc   = train(model, train_loader, optimizer, criterion)\n",
        "    val_loss, val_acc       = eval(model, val_loader)\n",
        "\n",
        "    print(\"\\tTrain Acc {:.04f}%\\tTrain Loss {:.04f}\\t Learning Rate {:.07f}\".format(train_acc*100, train_loss, curr_lr))\n",
        "    print(\"\\tVal Acc {:.04f}%\\tVal Loss {:.04f}\".format(val_acc*100, val_loss))\n",
        "\n",
        "    #scheduler.step(val_loss)\n",
        "    scheduler.step()\n",
        "\n",
        "    ### Log metrics at each epoch in your run \n",
        "    # Optionally, you can log at each batch inside train/eval functions \n",
        "    # (explore wandb documentation/wandb recitation)\n",
        "    wandb.log({'train_acc': train_acc*100, 'train_loss': train_loss, \n",
        "               'val_acc': val_acc*100, 'valid_loss': val_loss, 'lr': curr_lr})\n",
        "\n",
        "    ### Highly Recommended: Save checkpoint in drive and/or wandb if accuracy is better than your current best\n",
        "    torch.save({'epoch': epoch,\n",
        "            'model_state_dict': model.state_dict(),\n",
        "            'optimizer_state_dict': optimizer.state_dict(),\n",
        "            'scheduler_state_dict': scheduler.state_dict(),\n",
        "            'train_loss': train_loss,\n",
        "            'val_acc': val_acc},\n",
        "          '/content/drive/MyDrive/11-785-IDL/HW/HW1/P2/model_checkpoint.pth'+str(epoch))\n"
      ]
    },
    {
      "cell_type": "markdown",
      "metadata": {
        "id": "_kXwf5YUo_4A"
      },
      "source": [
        "# Testing and submission to Kaggle"
      ]
    },
    {
      "cell_type": "markdown",
      "metadata": {
        "id": "WI1hSFYLpJvH"
      },
      "source": [
        "Before we get to the following code, make sure to see the format of submission given in *sample_submission.csv*. Once you have done so, it is time to fill the following function to complete your inference on test data. Refer the eval function from previous cells to get an idea of how to go about completing this function."
      ]
    },
    {
      "cell_type": "code",
      "execution_count": null,
      "metadata": {
        "id": "R-SU9fZ3xHtk"
      },
      "outputs": [],
      "source": [
        "def test(model, test_loader):\n",
        "    ### What you call for model to perform inference?\n",
        "    model.eval() # TODO train or eval?\n",
        "\n",
        "    ### List to store predicted phonemes of test data\n",
        "    test_predictions = []\n",
        "\n",
        "    ### Which mode do you need to avoid gradients?\n",
        "    with torch.inference_mode(): # TODO\n",
        "\n",
        "        for i, mfccs in enumerate(tqdm(test_loader)):\n",
        "\n",
        "            mfccs   = mfccs.to(device)             \n",
        "            \n",
        "            logits  = model(mfccs)\n",
        "\n",
        "            ### Get most likely predicted phoneme with argmax\n",
        "            predicted_phonemes = torch.argmax(logits, dim= 1).cpu().numpy()\n",
        "\n",
        "            ### How do you store predicted_phonemes with test_predictions? Hint, look at eval \n",
        "            # TODO\n",
        "            test_predictions.append(predicted_phonemes)\n",
        "\n",
        "            ### Release memory\n",
        "            del mfccs, logits\n",
        "            torch.cuda.empty_cache()\n",
        "\n",
        "    return np.concatenate(test_predictions).tolist()"
      ]
    },
    {
      "cell_type": "code",
      "source": [
        "# state_dict = torch.load('/content/drive/MyDrive/11-785-IDL/HW/HW1/P2/model_checkpoint.pth')\n",
        "# model.load_state_dict(state_dict['model_state_dict'])"
      ],
      "metadata": {
        "id": "Ap7qt8ILlWVl"
      },
      "execution_count": null,
      "outputs": []
    },
    {
      "cell_type": "code",
      "execution_count": null,
      "metadata": {
        "id": "wG9v6Xmxu7wp"
      },
      "outputs": [],
      "source": [
        "predictions = test(model, test_loader)"
      ]
    },
    {
      "cell_type": "code",
      "source": [
        "### Finish your wandb run\n",
        "run.finish()"
      ],
      "metadata": {
        "id": "iyiiVuRtTPgx"
      },
      "execution_count": null,
      "outputs": []
    },
    {
      "cell_type": "code",
      "execution_count": null,
      "metadata": {
        "id": "ZE1hRnvf0bFz"
      },
      "outputs": [],
      "source": [
        "### Create CSV file with predictions\n",
        "with open(\"./submission.csv\", \"w+\") as f:\n",
        "    f.write(\"id,label\\n\")\n",
        "    for i in range(len(predictions)):\n",
        "        f.write(\"{},{}\\n\".format(i, PHONEMES[predictions[i]]))\n",
        "print(len(predictions))"
      ]
    },
    {
      "cell_type": "code",
      "execution_count": null,
      "metadata": {
        "id": "LjcammuCxMKN"
      },
      "outputs": [],
      "source": [
        "### Submit to kaggle competition using kaggle API (Uncomment below to use)\n",
        "!kaggle competitions submit -c 11-785-s23-hw1p2 -f ./submission.csv -m \"I made it!\"\n",
        "\n",
        "### However, its always safer to download the csv file and then upload to kaggle"
      ]
    },
    {
      "cell_type": "code",
      "source": [],
      "metadata": {
        "id": "kqoG8pBj7pHP"
      },
      "execution_count": null,
      "outputs": []
    }
  ],
  "metadata": {
    "colab": {
      "provenance": [],
      "machine_shape": "hm"
    },
    "gpuClass": "standard",
    "kernelspec": {
      "display_name": "Python 3.9.10 64-bit",
      "language": "python",
      "name": "python3"
    },
    "language_info": {
      "name": "python",
      "version": "3.9.10"
    },
    "vscode": {
      "interpreter": {
        "hash": "b0fa6594d8f4cbf19f97940f81e996739fb7646882a419484c72d19e05852a7e"
      }
    },
    "accelerator": "GPU"
  },
  "nbformat": 4,
  "nbformat_minor": 0
}