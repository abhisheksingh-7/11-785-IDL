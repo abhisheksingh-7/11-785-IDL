{
  "cells": [
    {
      "cell_type": "markdown",
      "metadata": {
        "pycharm": {
          "name": "#%% md\n"
        },
        "id": "SLmCPPcUGmne"
      },
      "source": [
        "## Homework 0 Part 2: Data Loaders\n",
        "\n",
        "In this assignment, you will be provided with data and an expected result. Your task is to fill out the starter code to obtain the expected result. Do not modify the data (X or Y), and do not modify the instantiation of the dataset or dataloader.\n",
        "\n",
        "All three versions -- easy difficulty, medium difficulty, and hard difficulty -- have the same solution code and the same examples. We recommend starting with the easy difficulty. Once you get the expected results with the easy difficulty, try again with the medium difficulty. If you want to challenge yourself, try again with the hard difficulty.\n",
        "\n",
        "CUDA is not required to complete most of this assignment, but it is required to execute the final command (unless you have a GPU in your local machine). Please use AWS to access CUDA available resources by following the AWS recitation0.\n",
        "\n",
        "Have fun!"
      ]
    },
    {
      "cell_type": "markdown",
      "metadata": {
        "pycharm": {
          "name": "#%% md\n"
        },
        "id": "dT6_ezA-Gmng"
      },
      "source": [
        "<hr style=\"border:2px solid gray\"> </hr>"
      ]
    },
    {
      "cell_type": "code",
      "execution_count": null,
      "metadata": {
        "execution": {
          "iopub.execute_input": "2022-01-13T00:18:05.355475Z",
          "iopub.status.busy": "2022-01-13T00:18:05.355255Z",
          "iopub.status.idle": "2022-01-13T00:18:05.740679Z",
          "shell.execute_reply": "2022-01-13T00:18:05.740009Z",
          "shell.execute_reply.started": "2022-01-13T00:18:05.355419Z"
        },
        "pycharm": {
          "name": "#%%\n"
        },
        "id": "NI7jZKrHGmng"
      },
      "outputs": [],
      "source": [
        "import numpy as np\n",
        "import torch"
      ]
    },
    {
      "cell_type": "markdown",
      "metadata": {
        "pycharm": {
          "name": "#%% md\n"
        },
        "id": "Sqh9jyTxGmnh"
      },
      "source": [
        "<hr style=\"border:2px solid gray\"> </hr>"
      ]
    },
    {
      "cell_type": "markdown",
      "metadata": {
        "pycharm": {
          "name": "#%% md\n"
        },
        "id": "JaTgIDlzGmnh"
      },
      "source": [
        "### Exercise 1"
      ]
    },
    {
      "cell_type": "code",
      "execution_count": null,
      "metadata": {
        "execution": {
          "iopub.execute_input": "2022-01-13T00:18:05.742033Z",
          "iopub.status.busy": "2022-01-13T00:18:05.741718Z",
          "iopub.status.idle": "2022-01-13T00:18:05.749377Z",
          "shell.execute_reply": "2022-01-13T00:18:05.744499Z",
          "shell.execute_reply.started": "2022-01-13T00:18:05.742012Z"
        },
        "pycharm": {
          "name": "#%%\n"
        },
        "id": "LYX4FTmwGmnh"
      },
      "outputs": [],
      "source": [
        "X = np.array([2,  3,  4,  5,  6,  7,  8,  9])"
      ]
    },
    {
      "cell_type": "code",
      "execution_count": null,
      "metadata": {
        "execution": {
          "iopub.execute_input": "2022-01-13T00:18:05.750387Z",
          "iopub.status.busy": "2022-01-13T00:18:05.750184Z",
          "iopub.status.idle": "2022-01-13T00:18:05.833540Z",
          "shell.execute_reply": "2022-01-13T00:18:05.831735Z",
          "shell.execute_reply.started": "2022-01-13T00:18:05.750364Z"
        },
        "tags": [],
        "pycharm": {
          "name": "#%%\n"
        },
        "id": "Q5pIH_WlGmni"
      },
      "outputs": [],
      "source": [
        "class ExampleDataset1(torch.utils.data.Dataset):\n",
        "    \n",
        "    def __init__(self, X):\n",
        "        \n",
        "        ### Assign data to self (1 line)\n",
        "        self.X = X\n",
        "        \n",
        "        ### Assign length to self (1 line)\n",
        "        self.length = len(X)\n",
        "        \n",
        "    def __len__(self):\n",
        "        \n",
        "        ### Return length (1 line)\n",
        "        return ________\n",
        "    \n",
        "    def __getitem__(self, i):\n",
        "        \n",
        "        ### Return data at index i (1 line)\n",
        "        return ________\n",
        "    \n",
        "    def collate_fn(batch):\n",
        "        \n",
        "        ### Convert batch to tensor (1 line)\n",
        "        batch_x = torch.as_tensor(batch)\n",
        "        \n",
        "        ### Return batched data and labels (1 line)\n",
        "        return ________"
      ]
    },
    {
      "cell_type": "code",
      "execution_count": null,
      "metadata": {
        "execution": {
          "iopub.execute_input": "2022-01-13T00:18:05.836375Z",
          "iopub.status.busy": "2022-01-13T00:18:05.835847Z",
          "iopub.status.idle": "2022-01-13T00:18:05.943477Z",
          "shell.execute_reply": "2022-01-13T00:18:05.941662Z",
          "shell.execute_reply.started": "2022-01-13T00:18:05.836311Z"
        },
        "tags": [],
        "pycharm": {
          "name": "#%%\n"
        },
        "id": "fkPTGB8hGmni"
      },
      "outputs": [],
      "source": [
        "dataset1 = ExampleDataset1(X)\n",
        "\n",
        "dataloader1 = torch.utils.data.DataLoader(dataset1, \n",
        "                                          batch_size=2, \n",
        "                                          shuffle=False, \n",
        "                                          collate_fn=ExampleDataset1.collate_fn)\n",
        "\n",
        "for i, batch in enumerate(dataloader1):\n",
        "    print(\"Batch\", i, \":\\n\", batch, \"\\n\")"
      ]
    },
    {
      "cell_type": "markdown",
      "metadata": {
        "pycharm": {
          "name": "#%% md\n"
        },
        "id": "ToMPlVcNGmnj"
      },
      "source": [
        "---\n",
        "#### Expected Output:\n",
        "```\n",
        "Batch 0 :\n",
        " tensor([2, 3]) \n",
        "\n",
        "Batch 1 :\n",
        " tensor([4, 5]) \n",
        "\n",
        "Batch 2 :\n",
        " tensor([6, 7]) \n",
        "\n",
        "Batch 3 :\n",
        " tensor([8, 9]) \n",
        "```\n",
        "---"
      ]
    },
    {
      "cell_type": "markdown",
      "metadata": {
        "pycharm": {
          "name": "#%% md\n"
        },
        "id": "ofas9cn9Gmnj"
      },
      "source": [
        "### Exercise 2"
      ]
    },
    {
      "cell_type": "code",
      "execution_count": null,
      "metadata": {
        "execution": {
          "iopub.execute_input": "2022-01-13T00:18:05.946516Z",
          "iopub.status.busy": "2022-01-13T00:18:05.945945Z",
          "iopub.status.idle": "2022-01-13T00:18:06.022387Z",
          "shell.execute_reply": "2022-01-13T00:18:06.021494Z",
          "shell.execute_reply.started": "2022-01-13T00:18:05.946449Z"
        },
        "pycharm": {
          "name": "#%%\n"
        },
        "id": "B0aa3J6pGmnj"
      },
      "outputs": [],
      "source": [
        "X = np.array([2,  3,  4,  5,  6,  7,  8,  9])\n",
        "Y = np.array([4,  9, 16, 25, 36, 49, 64, 81])"
      ]
    },
    {
      "cell_type": "code",
      "execution_count": null,
      "metadata": {
        "execution": {
          "iopub.execute_input": "2022-01-13T00:18:06.024224Z",
          "iopub.status.busy": "2022-01-13T00:18:06.023540Z",
          "iopub.status.idle": "2022-01-13T00:18:06.117901Z",
          "shell.execute_reply": "2022-01-13T00:18:06.116025Z",
          "shell.execute_reply.started": "2022-01-13T00:18:06.024073Z"
        },
        "pycharm": {
          "name": "#%%\n"
        },
        "id": "ifw7qBfyGmnj"
      },
      "outputs": [],
      "source": [
        "class ExampleDataset2(torch.utils.data.Dataset):\n",
        "    \n",
        "    def __init__(self, X, Y):\n",
        "        \n",
        "        ### Assign data and labels to self (1-2 lines)\n",
        "        self.X = ________\n",
        "        self.Y = ________\n",
        "        \n",
        "        ### Assert data and labels have the same length (1 line)\n",
        "        assert(len(X) == len(Y))\n",
        "        \n",
        "        ### Assign length to self (1 line)\n",
        "        self.length = ________\n",
        "        \n",
        "    def __len__(self):\n",
        "        \n",
        "        ### Return length (1 line)\n",
        "        return ________\n",
        "    \n",
        "    def __getitem__(self, i):\n",
        "        \n",
        "        ### Return data and label at index (1 line)\n",
        "        return ________, ________\n",
        "    \n",
        "    def collate_fn(batch):\n",
        "        \n",
        "        ### Select all data from batch (1 line)\n",
        "        batch_x = [x for x,y in batch]\n",
        "        \n",
        "        ### Select all labels from batch (1 line)\n",
        "        batch_y = [________ for ________,________ in batch]\n",
        "        \n",
        "        ### Convert batched data and labels to tensors (2 lines)\n",
        "        batch_x = torch.as_tensor(batch_x)\n",
        "        batch_y = ________(________)\n",
        "        \n",
        "        ### Return batched data and labels (1 line)\n",
        "        return ________, ________"
      ]
    },
    {
      "cell_type": "code",
      "execution_count": null,
      "metadata": {
        "execution": {
          "iopub.execute_input": "2022-01-13T00:18:06.123620Z",
          "iopub.status.busy": "2022-01-13T00:18:06.122910Z",
          "iopub.status.idle": "2022-01-13T00:18:06.245881Z",
          "shell.execute_reply": "2022-01-13T00:18:06.244433Z",
          "shell.execute_reply.started": "2022-01-13T00:18:06.123549Z"
        },
        "pycharm": {
          "name": "#%%\n"
        },
        "id": "pjNjFckTGmnk"
      },
      "outputs": [],
      "source": [
        "dataset2 = ExampleDataset2(X, Y)\n",
        "\n",
        "dataloader2 = torch.utils.data.DataLoader(dataset2,\n",
        "                                          batch_size=2, \n",
        "                                          shuffle=False,\n",
        "                                          collate_fn=ExampleDataset2.collate_fn)\n",
        "\n",
        "for i, batch in enumerate(dataloader2):\n",
        "    print(\"Batch\", i, \":\\n\", batch, \"\\n\")"
      ]
    },
    {
      "cell_type": "markdown",
      "metadata": {
        "pycharm": {
          "name": "#%% md\n"
        },
        "id": "3bKwVnO3Gmnk"
      },
      "source": [
        "#### Expected Output:\n",
        "\n",
        "```\n",
        "Batch 0 :\n",
        " (tensor([2, 3]), tensor([4, 9])) \n",
        "\n",
        "Batch 1 :\n",
        " (tensor([4, 5]), tensor([16, 25])) \n",
        "\n",
        "Batch 2 :\n",
        " (tensor([6, 7]), tensor([36, 49])) \n",
        "\n",
        "Batch 3 :\n",
        " (tensor([8, 9]), tensor([64, 81])) \n",
        "\n",
        "```\n",
        "---"
      ]
    },
    {
      "cell_type": "markdown",
      "source": [
        "### MFCC & Transcript Data"
      ],
      "metadata": {
        "id": "lBgjfY3CqPkK"
      }
    },
    {
      "cell_type": "code",
      "execution_count": null,
      "metadata": {
        "execution": {
          "iopub.execute_input": "2022-01-13T00:18:06.249508Z",
          "iopub.status.busy": "2022-01-13T00:18:06.248798Z",
          "iopub.status.idle": "2022-01-13T00:18:06.324096Z",
          "shell.execute_reply": "2022-01-13T00:18:06.322673Z",
          "shell.execute_reply.started": "2022-01-13T00:18:06.249283Z"
        },
        "pycharm": {
          "name": "#%%\n"
        },
        "id": "yvdJ7C3xGmnk"
      },
      "outputs": [],
      "source": [
        "# DO NOT MAKE ANY CHANGES TO THIS CELL\n",
        "\n",
        "# MFCCS: Shape [5 x 8]\n",
        "X1 = np.asarray([[15, 2, 3,  0, -7, -15,  1, 10], \n",
        "                 [14, 3, 4, -1, -7, -12,  0,  8], \n",
        "                 [15, 4, 4, -4, -7,  -7,  0,  1], \n",
        "                 [16, 4, 4, -4, -8,  -4,  4,  0], \n",
        "                 [15, 2, 6, -1, -5,  -1, 10,  2]])\n",
        "\n",
        "X2 = np.asarray([[14, 0, 7,  2, -9,  -6,  0,  2], \n",
        "                 [15, 1, 4,  3, -6,  -8,  1,  2], \n",
        "                 [15, 2, 2,  1, -6, -10,  2,  0], \n",
        "                 [16, 4, 3,  2, -8,  -9,  8,  2], \n",
        "                 [16, 2, 5,  0, -9,  -7,  9,  2]])\n",
        "\n",
        "X3 = np.asarray([[16, 0, 4, -1, -6, 0, 4, -5], [16, 3, 4, 0, -6, 0, 7, -4], [16, 5, 4, 0, -5, -5, 0, 0], [17, 6, 6, -1, -5, -9, 1, 2], [16, 5, 6, -1, -5, -10, 0, 3]])\n",
        "X4 = np.asarray([[15, 6, 10, 9, 2, -12, 3, 8], [14, 4, 11, 9, 6, -13, -1, 10], [13, 0, 13, 8, 6, -9, -3, 9], [14, -6, 15, 10, 7, -3, -6, 12], [13, -10, 16, 7, 0, -5, -9, 13]])\n",
        "X5 = np.asarray([[14, 0, 8, -1, -5, -3, 6, 4], [15, 0, 9, 0, -4, -6, 0, 0], [15, 1, 12, 2, -3, -9, -2, 0], [17, 2, 7, 1, 0, -6, -2, -3], [17, 3, 5, 0, -2, -3, 4, -3]])\n",
        "X6 = np.asarray([[15, -1, 2, 2, 0, -4, -2, 2], [16, 0, 5, 0, -5, -4, -1, 6], [16, 1, 3, 2, -3, -5, 1, 3], [16, 2, 6, 0, -8, -5, 2, 3], [16, 2, 6, 0, -6, -5, 2, -1]])\n",
        "\n",
        "# TRANSCRIPTS\n",
        "Y1 = np.asarray([9, 2, 19, 10, 27])\n",
        "Y2 = np.asarray([15, 11, 21, 2, 9])\n",
        "Y3 = np.asarray([9, 1, 30, 15, 11])\n",
        "Y4 = np.asarray([29, 17, 6, 27, 3])\n",
        "Y5 = np.asarray([2, 22, 8, 16, 30])\n",
        "Y6 = np.asarray([13, 3, 27, 30, 10])\n"
      ]
    },
    {
      "cell_type": "markdown",
      "source": [
        "---"
      ],
      "metadata": {
        "id": "Zz1evHOfqXZ-"
      }
    },
    {
      "cell_type": "markdown",
      "metadata": {
        "pycharm": {
          "name": "#%% md\n"
        },
        "id": "ZJXKSNmpGmnk"
      },
      "source": [
        "### Example 3"
      ]
    },
    {
      "cell_type": "code",
      "source": [
        "mfccs = {\n",
        "    \"mfcc_001\": X1,\n",
        "    \"mfcc_002\": X2,\n",
        "    \"mfcc_003\": X3,\n",
        "    \"mfcc_004\": X4,\n",
        "    \"mfcc_005\": X5,\n",
        "    \"mfcc_006\": X6\n",
        "}\n",
        "\n",
        "raw_data = {\"mfccs\": mfccs}"
      ],
      "metadata": {
        "id": "hXENuITxK9FM"
      },
      "execution_count": null,
      "outputs": []
    },
    {
      "cell_type": "code",
      "execution_count": null,
      "metadata": {
        "execution": {
          "iopub.execute_input": "2022-01-13T00:18:06.326467Z",
          "iopub.status.busy": "2022-01-13T00:18:06.326057Z",
          "iopub.status.idle": "2022-01-13T00:18:06.417723Z",
          "shell.execute_reply": "2022-01-13T00:18:06.415700Z",
          "shell.execute_reply.started": "2022-01-13T00:18:06.326418Z"
        },
        "pycharm": {
          "name": "#%%\n"
        },
        "id": "lmEEP0RCGmnk"
      },
      "outputs": [],
      "source": [
        "class ExampleDataset3(torch.utils.data.Dataset):\n",
        "    \n",
        "    def __init__(self, data):\n",
        "        \n",
        "        # Assign mfccs to self from data dict(1 line)\n",
        "        self.mfccs_dict = ________['________']\n",
        "\n",
        "        # Get file paths\n",
        "        self.mfcc_files = sorted(self.mfccs_dict.keys())\n",
        "\n",
        "        # Load files\n",
        "        self.mfccs = []\n",
        "\n",
        "        for i in range(len(self.mfcc_files)):\n",
        "            # Load a single mfcc from mfccs_dict\n",
        "            mfcc = ________[self.mfcc_files[________]]\n",
        "            self.mfccs.append(mfcc)\n",
        "            \n",
        "        # Assign Length of mfccs\n",
        "        self.length = ________\n",
        "\n",
        "        \n",
        "    def __len__(self):\n",
        "        \n",
        "        ### Return length (1 line)\n",
        "        return ________\n",
        "    \n",
        "    def __getitem__(self, index):\n",
        "        \n",
        "        ## Get data at index pair (1 line)\n",
        "        xx = self.mfccs[________]\n",
        "\n",
        "        return xx\n",
        "    \n",
        "    def collate_fn(batch):\n",
        "        \n",
        "        ### Convert batch to tensor (1 line)\n",
        "        batch_x = ________(________)\n",
        "        \n",
        "        ### Return batched data and labels (1 line)\n",
        "        return ________"
      ]
    },
    {
      "cell_type": "code",
      "execution_count": null,
      "metadata": {
        "execution": {
          "iopub.execute_input": "2022-01-13T00:18:06.420449Z",
          "iopub.status.busy": "2022-01-13T00:18:06.419930Z",
          "iopub.status.idle": "2022-01-13T00:18:06.543422Z",
          "shell.execute_reply": "2022-01-13T00:18:06.541862Z",
          "shell.execute_reply.started": "2022-01-13T00:18:06.420386Z"
        },
        "pycharm": {
          "name": "#%%\n"
        },
        "id": "lyoufQzCGmnl"
      },
      "outputs": [],
      "source": [
        "dataset3 = ExampleDataset3(raw_data)\n",
        "\n",
        "dataloader3 = torch.utils.data.DataLoader(dataset3, \n",
        "                                          batch_size=2, \n",
        "                                          shuffle=False, \n",
        "                                          collate_fn=ExampleDataset3.collate_fn)\n",
        "\n",
        "for i, batch in enumerate(dataloader3):\n",
        "    print(\"Batch\", i, \":\\n\", batch[0], \"\\n\")"
      ]
    },
    {
      "cell_type": "markdown",
      "metadata": {
        "pycharm": {
          "name": "#%% md\n"
        },
        "id": "uj7dDOKgGmnl"
      },
      "source": [
        "---\n",
        "#### Expected Output\n",
        "\n",
        "```\n",
        "Batch 0 :\n",
        " tensor([[ 15,   2,   3,   0,  -7, -15,   1,  10],\n",
        "        [ 14,   3,   4,  -1,  -7, -12,   0,   8],\n",
        "        [ 15,   4,   4,  -4,  -7,  -7,   0,   1],\n",
        "        [ 16,   4,   4,  -4,  -8,  -4,   4,   0],\n",
        "        [ 15,   2,   6,  -1,  -5,  -1,  10,   2]]) \n",
        "\n",
        "Batch 1 :\n",
        " tensor([[ 16,   0,   4,  -1,  -6,   0,   4,  -5],\n",
        "        [ 16,   3,   4,   0,  -6,   0,   7,  -4],\n",
        "        [ 16,   5,   4,   0,  -5,  -5,   0,   0],\n",
        "        [ 17,   6,   6,  -1,  -5,  -9,   1,   2],\n",
        "        [ 16,   5,   6,  -1,  -5, -10,   0,   3]]) \n",
        "\n",
        "Batch 2 :\n",
        " tensor([[14,  0,  8, -1, -5, -3,  6,  4],\n",
        "        [15,  0,  9,  0, -4, -6,  0,  0],\n",
        "        [15,  1, 12,  2, -3, -9, -2,  0],\n",
        "        [17,  2,  7,  1,  0, -6, -2, -3],\n",
        "        [17,  3,  5,  0, -2, -3,  4, -3]]) \n",
        "```\n",
        "---"
      ]
    },
    {
      "cell_type": "markdown",
      "metadata": {
        "pycharm": {
          "name": "#%% md\n"
        },
        "id": "2TPrA6CGGmnl"
      },
      "source": [
        "<hr style=\"border:2px solid gray\"> </hr>"
      ]
    },
    {
      "cell_type": "markdown",
      "metadata": {
        "pycharm": {
          "name": "#%% md\n"
        },
        "id": "PniNbkJIGmnl"
      },
      "source": [
        "### Exercise 4"
      ]
    },
    {
      "cell_type": "code",
      "execution_count": null,
      "metadata": {
        "execution": {
          "iopub.execute_input": "2022-01-13T00:18:06.547211Z",
          "iopub.status.busy": "2022-01-13T00:18:06.546623Z",
          "iopub.status.idle": "2022-01-13T00:18:06.622203Z",
          "shell.execute_reply": "2022-01-13T00:18:06.621225Z",
          "shell.execute_reply.started": "2022-01-13T00:18:06.547145Z"
        },
        "pycharm": {
          "name": "#%%\n"
        },
        "id": "B7GVhEf5Gmnl"
      },
      "outputs": [],
      "source": [
        "mfccs = {\n",
        "    \"mfcc_001\": X1,\n",
        "    \"mfcc_002\": X2,\n",
        "    \"mfcc_003\": X3,\n",
        "    \"mfcc_004\": X4,\n",
        "    \"mfcc_005\": X5,\n",
        "    \"mfcc_006\": X6\n",
        "}\n",
        "\n",
        "transcripts = {\n",
        "    \"transcript_001\": Y1,\n",
        "    \"transcript_002\": Y2,\n",
        "    \"transcript_003\": Y3,\n",
        "    \"transcript_004\": Y4,\n",
        "    \"transcript_005\": Y5,\n",
        "    \"transcript_006\": Y6\n",
        "}\n",
        "\n",
        "raw_data = {\"mfccs\": mfccs, \"transcripts\": transcripts}"
      ]
    },
    {
      "cell_type": "code",
      "execution_count": null,
      "metadata": {
        "execution": {
          "iopub.execute_input": "2022-01-13T00:18:06.623196Z",
          "iopub.status.busy": "2022-01-13T00:18:06.622993Z",
          "iopub.status.idle": "2022-01-13T00:18:06.718171Z",
          "shell.execute_reply": "2022-01-13T00:18:06.716307Z",
          "shell.execute_reply.started": "2022-01-13T00:18:06.623173Z"
        },
        "pycharm": {
          "name": "#%%\n"
        },
        "id": "1tSB0BNtGmnl"
      },
      "outputs": [],
      "source": [
        "class ExampleDataset4(torch.utils.data.Dataset):\n",
        "    \n",
        "    def __init__(self, data):\n",
        "        \n",
        "        # Assign mfccs to self from data dict(1 line)\n",
        "        self.mfccs_dict = ________['________']\n",
        "\n",
        "        # Assign transcripts to self from data dict(1 line)\n",
        "        self.transcripts_dict = ________['________']\n",
        "\n",
        "        # Get file paths\n",
        "        self.mfcc_files = sorted(self.mfccs_dict.keys())\n",
        "        self.transcript_files = ________(self.transcripts_dict.________())\n",
        "\n",
        "        # Load files\n",
        "        self.mfccs = []\n",
        "        self.transcripts = []\n",
        "\n",
        "        for i in range(len(self.mfcc_files)):\n",
        "            # Load a single mfcc from mfccs_dict\n",
        "            mfcc = ________[self.mfcc_files[________]]\n",
        "            self.mfccs.append(________)\n",
        "            \n",
        "            # Load a single transcript from transcript files\n",
        "            transcript = ________[self.transcript_files[________]]\n",
        "            self.transcripts.append(________)\n",
        "\n",
        "        # Assign Length\n",
        "        self.length = ________\n",
        "\n",
        "        # Sanity check for mfcc, transcript pairs\n",
        "        assert len(________) == len(________)\n",
        "\n",
        "        \n",
        "    def __len__(self):\n",
        "        \n",
        "        ### Return length (1 line)\n",
        "        return ________\n",
        "    \n",
        "    def __getitem__(self, index):\n",
        "        \n",
        "        ## Get mfcc at index pair (1 line)\n",
        "        xx = ________[________]\n",
        "\n",
        "        ### Get transcript at index pair (1 line)\n",
        "        yy = ________[________]\n",
        " \n",
        "        ### Return data (1 line)\n",
        "        return ________, ________\n",
        "    \n",
        "    def collate_fn(batch):\n",
        "        \n",
        "        ### Select all mfccs from batch (1 line)\n",
        "        batch_x = [________ for ________,________ in ________]\n",
        "        \n",
        "        ### Select all transcripts from batch (1 line)\n",
        "        batch_y = [________ for ________,________ in ________]\n",
        "        \n",
        "        ### Convert batched data and labels to tensors (2 lines)\n",
        "        batch_x = ________(________)\n",
        "        batch_y = ________(________)\n",
        "        \n",
        "        ### Return batched data and labels (1 line)\n",
        "        return ________, ________"
      ]
    },
    {
      "cell_type": "code",
      "execution_count": null,
      "metadata": {
        "execution": {
          "iopub.execute_input": "2022-01-13T00:18:06.720915Z",
          "iopub.status.busy": "2022-01-13T00:18:06.720396Z",
          "iopub.status.idle": "2022-01-13T00:18:06.844639Z",
          "shell.execute_reply": "2022-01-13T00:18:06.842911Z",
          "shell.execute_reply.started": "2022-01-13T00:18:06.720851Z"
        },
        "pycharm": {
          "name": "#%%\n"
        },
        "id": "eDd3j6u7Gmnl"
      },
      "outputs": [],
      "source": [
        "dataset4 = ExampleDataset4(raw_data)\n",
        "\n",
        "dataloader4 = torch.utils.data.DataLoader(dataset4, \n",
        "                                          batch_size=2, \n",
        "                                          shuffle=False, \n",
        "                                          collate_fn=ExampleDataset4.collate_fn)\n",
        "\n",
        "for i, batch in enumerate(dataloader4):\n",
        "    print(\"Batch\", i, \":\\n\", batch[0], \"\\n\", batch[1], \"\\n\")"
      ]
    },
    {
      "cell_type": "markdown",
      "metadata": {
        "pycharm": {
          "name": "#%% md\n"
        },
        "id": "xDPiCmvTGmnm"
      },
      "source": [
        "---\n",
        "#### Expected Output:\n",
        "\n",
        "```\n",
        "Batch 0 :\n",
        " tensor([[[ 15,   2,   3,   0,  -7, -15,   1,  10],\n",
        "         [ 14,   3,   4,  -1,  -7, -12,   0,   8],\n",
        "         [ 15,   4,   4,  -4,  -7,  -7,   0,   1],\n",
        "         [ 16,   4,   4,  -4,  -8,  -4,   4,   0],\n",
        "         [ 15,   2,   6,  -1,  -5,  -1,  10,   2]],\n",
        "\n",
        "        [[ 14,   0,   7,   2,  -9,  -6,   0,   2],\n",
        "         [ 15,   1,   4,   3,  -6,  -8,   1,   2],\n",
        "         [ 15,   2,   2,   1,  -6, -10,   2,   0],\n",
        "         [ 16,   4,   3,   2,  -8,  -9,   8,   2],\n",
        "         [ 16,   2,   5,   0,  -9,  -7,   9,   2]]]) \n",
        " tensor([[ 9,  2, 19, 10, 27],\n",
        "        [15, 11, 21,  2,  9]]) \n",
        "\n",
        "Batch 1 :\n",
        " tensor([[[ 16,   0,   4,  -1,  -6,   0,   4,  -5],\n",
        "         [ 16,   3,   4,   0,  -6,   0,   7,  -4],\n",
        "         [ 16,   5,   4,   0,  -5,  -5,   0,   0],\n",
        "         [ 17,   6,   6,  -1,  -5,  -9,   1,   2],\n",
        "         [ 16,   5,   6,  -1,  -5, -10,   0,   3]],\n",
        "\n",
        "        [[ 15,   6,  10,   9,   2, -12,   3,   8],\n",
        "         [ 14,   4,  11,   9,   6, -13,  -1,  10],\n",
        "         [ 13,   0,  13,   8,   6,  -9,  -3,   9],\n",
        "         [ 14,  -6,  15,  10,   7,  -3,  -6,  12],\n",
        "         [ 13, -10,  16,   7,   0,  -5,  -9,  13]]]) \n",
        " tensor([[ 9,  1, 30, 15, 11],\n",
        "        [29, 17,  6, 27,  3]]) \n",
        "\n",
        "Batch 2 :\n",
        " tensor([[[14,  0,  8, -1, -5, -3,  6,  4],\n",
        "         [15,  0,  9,  0, -4, -6,  0,  0],\n",
        "         [15,  1, 12,  2, -3, -9, -2,  0],\n",
        "         [17,  2,  7,  1,  0, -6, -2, -3],\n",
        "         [17,  3,  5,  0, -2, -3,  4, -3]],\n",
        "\n",
        "        [[15, -1,  2,  2,  0, -4, -2,  2],\n",
        "         [16,  0,  5,  0, -5, -4, -1,  6],\n",
        "         [16,  1,  3,  2, -3, -5,  1,  3],\n",
        "         [16,  2,  6,  0, -8, -5,  2,  3],\n",
        "         [16,  2,  6,  0, -6, -5,  2, -1]]]) \n",
        " tensor([[ 2, 22,  8, 16, 30],\n",
        "        [13,  3, 27, 30, 10]]) \n",
        "```\n",
        "---"
      ]
    },
    {
      "cell_type": "markdown",
      "metadata": {
        "pycharm": {
          "name": "#%% md\n"
        },
        "id": "SufFzqRYGmnm"
      },
      "source": [
        "<hr style=\"border:2px solid gray\"> </hr>"
      ]
    },
    {
      "cell_type": "markdown",
      "metadata": {
        "pycharm": {
          "name": "#%% md\n"
        },
        "id": "tquUJlqCGmnm"
      },
      "source": [
        "### Exercise 5"
      ]
    },
    {
      "cell_type": "code",
      "execution_count": null,
      "metadata": {
        "execution": {
          "iopub.execute_input": "2022-01-13T00:18:06.847329Z",
          "iopub.status.busy": "2022-01-13T00:18:06.846794Z",
          "iopub.status.idle": "2022-01-13T00:18:06.956168Z",
          "shell.execute_reply": "2022-01-13T00:18:06.954352Z",
          "shell.execute_reply.started": "2022-01-13T00:18:06.847265Z"
        },
        "pycharm": {
          "name": "#%%\n"
        },
        "id": "hKOEDlflGmnm"
      },
      "outputs": [],
      "source": [
        "mfccs = {\n",
        "    \"mfcc_001\": X1,\n",
        "    \"mfcc_002\": X2,\n",
        "    \"mfcc_003\": X3,\n",
        "    \"mfcc_004\": X4,\n",
        "    \"mfcc_005\": X5,\n",
        "    \"mfcc_006\": X6\n",
        "}\n",
        "\n",
        "raw_data = {\"mfccs\": mfccs}"
      ]
    },
    {
      "cell_type": "code",
      "execution_count": null,
      "metadata": {
        "execution": {
          "iopub.execute_input": "2022-01-13T00:18:06.959867Z",
          "iopub.status.busy": "2022-01-13T00:18:06.958956Z",
          "iopub.status.idle": "2022-01-13T00:18:07.043079Z",
          "shell.execute_reply": "2022-01-13T00:18:07.041244Z",
          "shell.execute_reply.started": "2022-01-13T00:18:06.959799Z"
        },
        "pycharm": {
          "name": "#%%\n"
        },
        "id": "aWQRRt_dGmnm"
      },
      "outputs": [],
      "source": [
        "class ExampleDataset5(torch.utils.data.Dataset):\n",
        "    \n",
        "    def __init__(self, data, offset, context):\n",
        "        \n",
        "        self.context = offset\n",
        "        self.offset = context\n",
        "        \n",
        "        # Assign mfccs to self from data dict(1 line)\n",
        "        self.mfccs_dict = ________['________']\n",
        "\n",
        "        # Get file paths\n",
        "        self.mfcc_files = sorted(________)\n",
        "\n",
        "        # Load files\n",
        "        self.mfccs = []\n",
        "\n",
        "        for ________ in range(len(________)):\n",
        "            # Load a single mfcc\n",
        "            ________ = ________[________]\n",
        "            ________.append(________)\n",
        "            \n",
        "        # Assign Length\n",
        "        ________ = ________\n",
        "\n",
        "        ### Zero pad data as-needed for context size = 1 (1-2 lines)\n",
        "        self.mfccs = np.pad(self.mfccs, ((1, 1), (0, 0), (0, 0)), 'constant', constant_values=0)\n",
        "\n",
        "        \n",
        "    def __len__(self):\n",
        "        \n",
        "        ### Return length (1 line)\n",
        "        return ________\n",
        "    \n",
        "    def __getitem__(self, index):\n",
        "        \n",
        "        ### Calculate starting timestep using offset and context (1 line)\n",
        "        start_i = index + self.offset - self.context\n",
        "        \n",
        "        ## Calculate ending timestep using offset and context (1 line)\n",
        "        end_i = index + self.offset + self.context + 1\n",
        "\n",
        "        ### Get data at index pair with context (1 line)\n",
        "        xx = self.mfccs[start_i:end_i]\n",
        "\n",
        "        ### Return data at index pair with context and label at index pair (1 line)\n",
        "        return ________\n",
        "\n",
        "    def collate_fn(batch):\n",
        "        \n",
        "        ### Convert batch to tensor (1 line)\n",
        "        ________ = ________(________)\n",
        "        \n",
        "        ### Return batched data and labels (1 line)\n",
        "        return ________"
      ]
    },
    {
      "cell_type": "code",
      "execution_count": null,
      "metadata": {
        "execution": {
          "iopub.execute_input": "2022-01-13T00:18:07.046084Z",
          "iopub.status.busy": "2022-01-13T00:18:07.045550Z",
          "iopub.status.idle": "2022-01-13T00:18:07.174123Z",
          "shell.execute_reply": "2022-01-13T00:18:07.172282Z",
          "shell.execute_reply.started": "2022-01-13T00:18:07.046021Z"
        },
        "pycharm": {
          "name": "#%%\n"
        },
        "id": "eJBWxYkvGmnm"
      },
      "outputs": [],
      "source": [
        "dataset5 = ExampleDataset5(raw_data, offset=1, context=1)\n",
        "\n",
        "dataloader5 = torch.utils.data.DataLoader(dataset5, \n",
        "                                          batch_size=2, \n",
        "                                          shuffle=False, \n",
        "                                          collate_fn=ExampleDataset5.collate_fn)\n",
        "\n",
        "for i, batch in enumerate(dataloader5):\n",
        "    print(f\"Batch {i}:\\nmfcc_shape: {batch[0].shape}\\n\\n{batch[0]}\\n\\n\")"
      ]
    },
    {
      "cell_type": "markdown",
      "metadata": {
        "pycharm": {
          "name": "#%% md\n"
        },
        "id": "RssYc5dCGmnm"
      },
      "source": [
        "---\n",
        "#### Expected Output:\n",
        "\n",
        "```\n",
        "Batch 0:\n",
        "mfcc_shape: torch.Size([3, 5, 8])\n",
        "\n",
        "tensor([[[  0,   0,   0,   0,   0,   0,   0,   0],\n",
        "         [  0,   0,   0,   0,   0,   0,   0,   0],\n",
        "         [  0,   0,   0,   0,   0,   0,   0,   0],\n",
        "         [  0,   0,   0,   0,   0,   0,   0,   0],\n",
        "         [  0,   0,   0,   0,   0,   0,   0,   0]],\n",
        "\n",
        "        [[ 15,   2,   3,   0,  -7, -15,   1,  10],\n",
        "         [ 14,   3,   4,  -1,  -7, -12,   0,   8],\n",
        "         [ 15,   4,   4,  -4,  -7,  -7,   0,   1],\n",
        "         [ 16,   4,   4,  -4,  -8,  -4,   4,   0],\n",
        "         [ 15,   2,   6,  -1,  -5,  -1,  10,   2]],\n",
        "\n",
        "        [[ 14,   0,   7,   2,  -9,  -6,   0,   2],\n",
        "         [ 15,   1,   4,   3,  -6,  -8,   1,   2],\n",
        "         [ 15,   2,   2,   1,  -6, -10,   2,   0],\n",
        "         [ 16,   4,   3,   2,  -8,  -9,   8,   2],\n",
        "         [ 16,   2,   5,   0,  -9,  -7,   9,   2]]])\n",
        "\n",
        "\n",
        "Batch 1:\n",
        "mfcc_shape: torch.Size([3, 5, 8])\n",
        "\n",
        "tensor([[[ 14,   0,   7,   2,  -9,  -6,   0,   2],\n",
        "         [ 15,   1,   4,   3,  -6,  -8,   1,   2],\n",
        "         [ 15,   2,   2,   1,  -6, -10,   2,   0],\n",
        "         [ 16,   4,   3,   2,  -8,  -9,   8,   2],\n",
        "         [ 16,   2,   5,   0,  -9,  -7,   9,   2]],\n",
        "\n",
        "        [[ 16,   0,   4,  -1,  -6,   0,   4,  -5],\n",
        "         [ 16,   3,   4,   0,  -6,   0,   7,  -4],\n",
        "         [ 16,   5,   4,   0,  -5,  -5,   0,   0],\n",
        "         [ 17,   6,   6,  -1,  -5,  -9,   1,   2],\n",
        "         [ 16,   5,   6,  -1,  -5, -10,   0,   3]],\n",
        "\n",
        "        [[ 15,   6,  10,   9,   2, -12,   3,   8],\n",
        "         [ 14,   4,  11,   9,   6, -13,  -1,  10],\n",
        "         [ 13,   0,  13,   8,   6,  -9,  -3,   9],\n",
        "         [ 14,  -6,  15,  10,   7,  -3,  -6,  12],\n",
        "         [ 13, -10,  16,   7,   0,  -5,  -9,  13]]])\n",
        "\n",
        "\n",
        "Batch 2:\n",
        "mfcc_shape: torch.Size([3, 5, 8])\n",
        "\n",
        "tensor([[[ 15,   6,  10,   9,   2, -12,   3,   8],\n",
        "         [ 14,   4,  11,   9,   6, -13,  -1,  10],\n",
        "         [ 13,   0,  13,   8,   6,  -9,  -3,   9],\n",
        "         [ 14,  -6,  15,  10,   7,  -3,  -6,  12],\n",
        "         [ 13, -10,  16,   7,   0,  -5,  -9,  13]],\n",
        "\n",
        "        [[ 14,   0,   8,  -1,  -5,  -3,   6,   4],\n",
        "         [ 15,   0,   9,   0,  -4,  -6,   0,   0],\n",
        "         [ 15,   1,  12,   2,  -3,  -9,  -2,   0],\n",
        "         [ 17,   2,   7,   1,   0,  -6,  -2,  -3],\n",
        "         [ 17,   3,   5,   0,  -2,  -3,   4,  -3]],\n",
        "\n",
        "        [[ 15,  -1,   2,   2,   0,  -4,  -2,   2],\n",
        "         [ 16,   0,   5,   0,  -5,  -4,  -1,   6],\n",
        "         [ 16,   1,   3,   2,  -3,  -5,   1,   3],\n",
        "         [ 16,   2,   6,   0,  -8,  -5,   2,   3],\n",
        "         [ 16,   2,   6,   0,  -6,  -5,   2,  -1]]])\n",
        "\n",
        "```\n",
        "---"
      ]
    },
    {
      "cell_type": "markdown",
      "metadata": {
        "pycharm": {
          "name": "#%% md\n"
        },
        "id": "aWNFvvPvGmnm"
      },
      "source": [
        "### Exercise 6"
      ]
    },
    {
      "cell_type": "code",
      "execution_count": null,
      "metadata": {
        "execution": {
          "iopub.execute_input": "2022-01-13T00:18:07.176961Z",
          "iopub.status.busy": "2022-01-13T00:18:07.176361Z",
          "iopub.status.idle": "2022-01-13T00:18:07.265923Z",
          "shell.execute_reply": "2022-01-13T00:18:07.264153Z",
          "shell.execute_reply.started": "2022-01-13T00:18:07.176895Z"
        },
        "pycharm": {
          "name": "#%%\n"
        },
        "id": "y-N6-dzoGmnn"
      },
      "outputs": [],
      "source": [
        "mfccs = {\n",
        "    \"mfcc_001\": X1,\n",
        "    \"mfcc_002\": X2,\n",
        "    \"mfcc_003\": X3,\n",
        "    \"mfcc_004\": X4,\n",
        "    \"mfcc_005\": X5,\n",
        "    \"mfcc_006\": X6\n",
        "}\n",
        "\n",
        "transcripts = {\n",
        "    \"transcript_001\": Y1,\n",
        "    \"transcript_002\": Y2,\n",
        "    \"transcript_003\": Y3,\n",
        "    \"transcript_004\": Y4,\n",
        "    \"transcript_005\": Y5,\n",
        "    \"transcript_006\": Y6\n",
        "}\n",
        "\n",
        "raw_data = {\"mfccs\": mfccs, \"transcripts\": transcripts}"
      ]
    },
    {
      "cell_type": "code",
      "execution_count": null,
      "metadata": {
        "execution": {
          "iopub.execute_input": "2022-01-13T00:18:07.269079Z",
          "iopub.status.busy": "2022-01-13T00:18:07.268549Z",
          "iopub.status.idle": "2022-01-13T00:18:07.352346Z",
          "shell.execute_reply": "2022-01-13T00:18:07.350462Z",
          "shell.execute_reply.started": "2022-01-13T00:18:07.269014Z"
        },
        "tags": [],
        "pycharm": {
          "name": "#%%\n"
        },
        "id": "K3JzkKwTGmnn"
      },
      "outputs": [],
      "source": [
        "class ExampleDataset6(torch.utils.data.Dataset):\n",
        "    \n",
        "    def __init__(self, data, offset, context):\n",
        "        \n",
        "        # Add context and offset to self (1-2 line)\n",
        "        ________ = ________\n",
        "        ________ = ________\n",
        "\n",
        "        # Assign data to self (1 line)\n",
        "        self.mfccs_dict = ________['________']\n",
        "        self.transcripts_dict = ________['________']\n",
        "\n",
        "        # Get file paths\n",
        "        self.mfcc_files = sorted(________)\n",
        "        self.transcript_files = sorted(________)\n",
        "\n",
        "        # Load files\n",
        "        self.mfccs = []\n",
        "        self.transcripts = []\n",
        "\n",
        "        for ________ in range(len(________)):\n",
        "            # Load a single mfcc\n",
        "            ________ = ________[________[________]]\n",
        "            ________.append(________)\n",
        "            \n",
        "            # Load a single transcript\n",
        "            ________ = ________[________[________]]\n",
        "            ________.append(________)\n",
        "\n",
        "        # Assign Length\n",
        "        ________ = ________\n",
        "\n",
        "        ### Zero pad data as-needed for context size = 1 (1-2 lines)\n",
        "        self.mfccs = np.pad(________, ((________, ________), (________, ________), (________, ________)), '________', constant_values=________)\n",
        "\n",
        "\n",
        "        # Sanity check for mfcc, transcript pairs\n",
        "        assert ________ == ________\n",
        "\n",
        "        \n",
        "    def __len__(self):\n",
        "        \n",
        "        ### Return length (1 line)\n",
        "        return ________\n",
        "    \n",
        "    def __getitem__(self, index):\n",
        "        \n",
        "        ### Calculate starting timestep using offset and context (1 line)\n",
        "        ________ = ________ + ________ - ________\n",
        "        \n",
        "        ## Calculate ending timestep using offset and context (1 line)\n",
        "        ________ = ________ + ________ + ________ + 1\n",
        "\n",
        "        ### Get mfcc at index pair with context (1 line)\n",
        "        ________ = ________[________:________]\n",
        "\n",
        "        ### Get transcript at index pair (1 line)\n",
        "        ________ = ________[________]\n",
        "        \n",
        "        ### Return mfcc at index pair with context and transcript at index pair (1 line)\n",
        "        return ________, ________\n",
        "\n",
        "    \n",
        "    def collate_fn(batch):\n",
        "        \n",
        "        ### Select all data from batch (1 line)\n",
        "        ________ = [________ for ________,________ in ________]\n",
        "        \n",
        "        ### Select all labels from batch (1 line)\n",
        "        ________ = [________ for ________,________ in ________]\n",
        "        \n",
        "        ### Convert batched data and labels to tensors (2 lines)\n",
        "        ________ = ________(________)\n",
        "        ________ = ________(________)\n",
        "        \n",
        "        ### Return batched data and labels (1 line)\n",
        "        return ________, ________"
      ]
    },
    {
      "cell_type": "code",
      "execution_count": null,
      "metadata": {
        "execution": {
          "iopub.execute_input": "2022-01-13T00:18:07.355161Z",
          "iopub.status.busy": "2022-01-13T00:18:07.354633Z",
          "iopub.status.idle": "2022-01-13T00:18:07.493091Z",
          "shell.execute_reply": "2022-01-13T00:18:07.491560Z",
          "shell.execute_reply.started": "2022-01-13T00:18:07.355096Z"
        },
        "tags": [],
        "pycharm": {
          "name": "#%%\n"
        },
        "id": "B_XWTZMCGmnn"
      },
      "outputs": [],
      "source": [
        "dataset6 = ExampleDataset6(raw_data, offset=1, context=1)\n",
        "\n",
        "dataloader6 = torch.utils.data.DataLoader(dataset6, \n",
        "                                          batch_size=2, \n",
        "                                          shuffle=False, \n",
        "                                          collate_fn=ExampleDataset6.collate_fn)\n",
        "\n",
        "for i, batch in enumerate(dataloader6):\n",
        "    print(f\"Batch {i}:\\nmfcc_shape: {batch[0].shape}, transcript_shape: {batch[1].shape}\\n\\n{batch[0]}\\n{batch[1]}\\n\\n\")"
      ]
    },
    {
      "cell_type": "markdown",
      "metadata": {
        "pycharm": {
          "name": "#%% md\n"
        },
        "id": "k0R5riHrGmnn"
      },
      "source": [
        "---\n",
        "#### Expected Output:\n",
        "```\n",
        "Batch 0:\n",
        "mfcc_shape: torch.Size([2, 3, 5, 8]), transcript_shape: torch.Size([2, 5])\n",
        "\n",
        "tensor([[[[  0,   0,   0,   0,   0,   0,   0,   0],\n",
        "          [  0,   0,   0,   0,   0,   0,   0,   0],\n",
        "          [  0,   0,   0,   0,   0,   0,   0,   0],\n",
        "          [  0,   0,   0,   0,   0,   0,   0,   0],\n",
        "          [  0,   0,   0,   0,   0,   0,   0,   0]],\n",
        "\n",
        "         [[ 15,   2,   3,   0,  -7, -15,   1,  10],\n",
        "          [ 14,   3,   4,  -1,  -7, -12,   0,   8],\n",
        "          [ 15,   4,   4,  -4,  -7,  -7,   0,   1],\n",
        "          [ 16,   4,   4,  -4,  -8,  -4,   4,   0],\n",
        "          [ 15,   2,   6,  -1,  -5,  -1,  10,   2]],\n",
        "\n",
        "         [[ 14,   0,   7,   2,  -9,  -6,   0,   2],\n",
        "          [ 15,   1,   4,   3,  -6,  -8,   1,   2],\n",
        "          [ 15,   2,   2,   1,  -6, -10,   2,   0],\n",
        "          [ 16,   4,   3,   2,  -8,  -9,   8,   2],\n",
        "          [ 16,   2,   5,   0,  -9,  -7,   9,   2]]],\n",
        "\n",
        "\n",
        "        [[[ 15,   2,   3,   0,  -7, -15,   1,  10],\n",
        "          [ 14,   3,   4,  -1,  -7, -12,   0,   8],\n",
        "          [ 15,   4,   4,  -4,  -7,  -7,   0,   1],\n",
        "          [ 16,   4,   4,  -4,  -8,  -4,   4,   0],\n",
        "          [ 15,   2,   6,  -1,  -5,  -1,  10,   2]],\n",
        "\n",
        "         [[ 14,   0,   7,   2,  -9,  -6,   0,   2],\n",
        "          [ 15,   1,   4,   3,  -6,  -8,   1,   2],\n",
        "          [ 15,   2,   2,   1,  -6, -10,   2,   0],\n",
        "          [ 16,   4,   3,   2,  -8,  -9,   8,   2],\n",
        "          [ 16,   2,   5,   0,  -9,  -7,   9,   2]],\n",
        "\n",
        "         [[ 16,   0,   4,  -1,  -6,   0,   4,  -5],\n",
        "          [ 16,   3,   4,   0,  -6,   0,   7,  -4],\n",
        "          [ 16,   5,   4,   0,  -5,  -5,   0,   0],\n",
        "          [ 17,   6,   6,  -1,  -5,  -9,   1,   2],\n",
        "          [ 16,   5,   6,  -1,  -5, -10,   0,   3]]]])\n",
        "tensor([[ 9,  2, 19, 10, 27],\n",
        "        [15, 11, 21,  2,  9]])\n",
        "\n",
        "\n",
        "Batch 1:\n",
        "mfcc_shape: torch.Size([2, 3, 5, 8]), transcript_shape: torch.Size([2, 5])\n",
        "\n",
        "tensor([[[[ 14,   0,   7,   2,  -9,  -6,   0,   2],\n",
        "          [ 15,   1,   4,   3,  -6,  -8,   1,   2],\n",
        "          [ 15,   2,   2,   1,  -6, -10,   2,   0],\n",
        "          [ 16,   4,   3,   2,  -8,  -9,   8,   2],\n",
        "          [ 16,   2,   5,   0,  -9,  -7,   9,   2]],\n",
        "\n",
        "         [[ 16,   0,   4,  -1,  -6,   0,   4,  -5],\n",
        "          [ 16,   3,   4,   0,  -6,   0,   7,  -4],\n",
        "          [ 16,   5,   4,   0,  -5,  -5,   0,   0],\n",
        "          [ 17,   6,   6,  -1,  -5,  -9,   1,   2],\n",
        "          [ 16,   5,   6,  -1,  -5, -10,   0,   3]],\n",
        "\n",
        "         [[ 15,   6,  10,   9,   2, -12,   3,   8],\n",
        "          [ 14,   4,  11,   9,   6, -13,  -1,  10],\n",
        "          [ 13,   0,  13,   8,   6,  -9,  -3,   9],\n",
        "          [ 14,  -6,  15,  10,   7,  -3,  -6,  12],\n",
        "          [ 13, -10,  16,   7,   0,  -5,  -9,  13]]],\n",
        "\n",
        "\n",
        "        [[[ 16,   0,   4,  -1,  -6,   0,   4,  -5],\n",
        "          [ 16,   3,   4,   0,  -6,   0,   7,  -4],\n",
        "          [ 16,   5,   4,   0,  -5,  -5,   0,   0],\n",
        "          [ 17,   6,   6,  -1,  -5,  -9,   1,   2],\n",
        "          [ 16,   5,   6,  -1,  -5, -10,   0,   3]],\n",
        "\n",
        "         [[ 15,   6,  10,   9,   2, -12,   3,   8],\n",
        "          [ 14,   4,  11,   9,   6, -13,  -1,  10],\n",
        "          [ 13,   0,  13,   8,   6,  -9,  -3,   9],\n",
        "          [ 14,  -6,  15,  10,   7,  -3,  -6,  12],\n",
        "          [ 13, -10,  16,   7,   0,  -5,  -9,  13]],\n",
        "\n",
        "         [[ 14,   0,   8,  -1,  -5,  -3,   6,   4],\n",
        "          [ 15,   0,   9,   0,  -4,  -6,   0,   0],\n",
        "          [ 15,   1,  12,   2,  -3,  -9,  -2,   0],\n",
        "          [ 17,   2,   7,   1,   0,  -6,  -2,  -3],\n",
        "          [ 17,   3,   5,   0,  -2,  -3,   4,  -3]]]])\n",
        "tensor([[ 9,  1, 30, 15, 11],\n",
        "        [29, 17,  6, 27,  3]])\n",
        "\n",
        "\n",
        "Batch 2:\n",
        "mfcc_shape: torch.Size([2, 3, 5, 8]), transcript_shape: torch.Size([2, 5])\n",
        "\n",
        "tensor([[[[ 15,   6,  10,   9,   2, -12,   3,   8],\n",
        "          [ 14,   4,  11,   9,   6, -13,  -1,  10],\n",
        "          [ 13,   0,  13,   8,   6,  -9,  -3,   9],\n",
        "          [ 14,  -6,  15,  10,   7,  -3,  -6,  12],\n",
        "          [ 13, -10,  16,   7,   0,  -5,  -9,  13]],\n",
        "\n",
        "         [[ 14,   0,   8,  -1,  -5,  -3,   6,   4],\n",
        "          [ 15,   0,   9,   0,  -4,  -6,   0,   0],\n",
        "          [ 15,   1,  12,   2,  -3,  -9,  -2,   0],\n",
        "          [ 17,   2,   7,   1,   0,  -6,  -2,  -3],\n",
        "          [ 17,   3,   5,   0,  -2,  -3,   4,  -3]],\n",
        "\n",
        "         [[ 15,  -1,   2,   2,   0,  -4,  -2,   2],\n",
        "          [ 16,   0,   5,   0,  -5,  -4,  -1,   6],\n",
        "          [ 16,   1,   3,   2,  -3,  -5,   1,   3],\n",
        "          [ 16,   2,   6,   0,  -8,  -5,   2,   3],\n",
        "          [ 16,   2,   6,   0,  -6,  -5,   2,  -1]]],\n",
        "\n",
        "\n",
        "        [[[ 14,   0,   8,  -1,  -5,  -3,   6,   4],\n",
        "          [ 15,   0,   9,   0,  -4,  -6,   0,   0],\n",
        "          [ 15,   1,  12,   2,  -3,  -9,  -2,   0],\n",
        "          [ 17,   2,   7,   1,   0,  -6,  -2,  -3],\n",
        "          [ 17,   3,   5,   0,  -2,  -3,   4,  -3]],\n",
        "\n",
        "         [[ 15,  -1,   2,   2,   0,  -4,  -2,   2],\n",
        "          [ 16,   0,   5,   0,  -5,  -4,  -1,   6],\n",
        "          [ 16,   1,   3,   2,  -3,  -5,   1,   3],\n",
        "          [ 16,   2,   6,   0,  -8,  -5,   2,   3],\n",
        "          [ 16,   2,   6,   0,  -6,  -5,   2,  -1]],\n",
        "\n",
        "         [[  0,   0,   0,   0,   0,   0,   0,   0],\n",
        "          [  0,   0,   0,   0,   0,   0,   0,   0],\n",
        "          [  0,   0,   0,   0,   0,   0,   0,   0],\n",
        "          [  0,   0,   0,   0,   0,   0,   0,   0],\n",
        "          [  0,   0,   0,   0,   0,   0,   0,   0]]]])\n",
        "tensor([[ 2, 22,  8, 16, 30],\n",
        "        [13,  3, 27, 30, 10]])\n",
        "\n",
        "```\n",
        "---"
      ]
    },
    {
      "cell_type": "markdown",
      "metadata": {
        "pycharm": {
          "name": "#%% md\n"
        },
        "id": "5ranaXcAGmnn"
      },
      "source": [
        "### Exercise 7"
      ]
    },
    {
      "cell_type": "code",
      "execution_count": null,
      "metadata": {
        "execution": {
          "iopub.execute_input": "2022-01-13T00:18:07.496008Z",
          "iopub.status.busy": "2022-01-13T00:18:07.495458Z",
          "iopub.status.idle": "2022-01-13T00:18:07.753511Z",
          "shell.execute_reply": "2022-01-13T00:18:07.751511Z",
          "shell.execute_reply.started": "2022-01-13T00:18:07.495943Z"
        },
        "tags": [],
        "pycharm": {
          "name": "#%%\n"
        },
        "id": "mPc1Fu2gGmnn"
      },
      "outputs": [],
      "source": [
        "!nvidia-smi"
      ]
    },
    {
      "cell_type": "markdown",
      "metadata": {
        "pycharm": {
          "name": "#%% md\n"
        },
        "id": "pPwAL0_jGmnn"
      },
      "source": [
        "---\n",
        "#### Expected Output (your result should look similar, but not exactly the same):\n",
        "```\n",
        "+-----------------------------------------------------------------------------+\n",
        "| NVIDIA-SMI 460.27.04    Driver Version: 460.27.04    CUDA Version: 11.2     |\n",
        "|-------------------------------+----------------------+----------------------+\n",
        "| GPU  Name        Persistence-M| Bus-Id        Disp.A | Volatile Uncorr. ECC |\n",
        "| Fan  Temp  Perf  Pwr:Usage/Cap|         Memory-Usage | GPU-Util  Compute M. |\n",
        "|                               |                      |               MIG M. |\n",
        "|===============================+======================+======================|\n",
        "|   0  GeForce RTX 207...  Off  | 00000000:01:00.0 Off |                  N/A |\n",
        "| N/A   40C    P8     9W /  N/A |      5MiB /  7982MiB |      0%      Default |\n",
        "|                               |                      |                  N/A |\n",
        "+-------------------------------+----------------------+----------------------+\n",
        "                                                                               \n",
        "+-----------------------------------------------------------------------------+\n",
        "| Processes:                                                                  |\n",
        "|  GPU   GI   CI        PID   Type   Process name                  GPU Memory |\n",
        "|        ID   ID                                                   Usage      |\n",
        "|=============================================================================|\n",
        "|    0   N/A  N/A       970      G   /usr/lib/xorg/Xorg                  4MiB |\n",
        "+-----------------------------------------------------------------------------+\n",
        "```\n",
        "---"
      ]
    }
  ],
  "metadata": {
    "kernelspec": {
      "display_name": "Python 3 (ipykernel)",
      "language": "python",
      "name": "python3"
    },
    "language_info": {
      "codemirror_mode": {
        "name": "ipython",
        "version": 3
      },
      "file_extension": ".py",
      "mimetype": "text/x-python",
      "name": "python",
      "nbconvert_exporter": "python",
      "pygments_lexer": "ipython3",
      "version": "3.7.12"
    },
    "colab": {
      "provenance": []
    }
  },
  "nbformat": 4,
  "nbformat_minor": 0
}